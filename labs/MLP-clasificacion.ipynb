{
 "cells": [
  {
   "cell_type": "markdown",
   "metadata": {},
   "source": [
    "Clasificación\n",
    "==="
   ]
  },
  {
   "cell_type": "markdown",
   "metadata": {},
   "source": [
    "## Objetivos de aprendizaje\n",
    "- Reconocer la metodología para implementar un perceptrón multicapa en un caso de clasificación"
   ]
  },
  {
   "cell_type": "markdown",
   "metadata": {},
   "source": [
    "## Definición del problema"
   ]
  },
  {
   "cell_type": "markdown",
   "metadata": {},
   "source": [
    "En un problema de clasificación de patrones se tienen cuatro (K = 4) clases diferentes. Se ha logrado recolectar un total de 200 patrones (50 por cada clase). Los datos se encuentran en el archivo `data/MulticapaClasificacion.csv`. Se desea construir una red neuronal artificial que permita clasificar nuevos patrones para los que se desconoce su clase.  Se debe determinar cuales son las variables relevantes, la cantidad apropiada de neuronas en la capa oculta y los valores óptimos de los pesos sinápticos. No es necesario que considere transformaciones de las variables independientes.\n",
    "\n",
    "Con el modelo obtenido, se desea pronosticar la clase a la que pertenecen los siguientes conjuntos de datos:\n",
    "\n",
    "      #       x1       x2       x3       x4       x5     C\n",
    "     -------------------------------------------------------\n",
    "      1   -4.514   -0.292    4.808   -0.846    4.774   ___\n",
    "      2   -2.890   -1.025    1.833    4.859    2.104   ___\n",
    "      3    2.488    5.998    1.878   -5.028    1.047   ___\n",
    "      4   -0.269    0.747    2.285   -0.352    3.118   ___\n",
    "      5   -0.952   -0.255   -0.274    5.250   -3.260   ___\n",
    "      6   -0.011    0.098    4.901    5.714   -1.190   ___\n",
    "      7    4.914   -5.040   -0.587   -2.352   -4.069   ___\n",
    "      8   -0.525    5.943    3.224   -2.668   -3.913   ___\n",
    "      9    1.783   -6.641   -3.154   -3.311    4.451   ___\n",
    "     10    3.721   -1.684    1.887    0.095   -3.090   ___\n",
    "     11   -4.765    1.605   -0.884   -1.503    3.501   ___\n",
    "     12   -1.392   -6.679   -3.336   -2.928   -3.211   ___\n",
    "     13   -4.607   -1.004    2.557   -0.006    4.301   ___\n",
    "     14    1.352    3.233   -4.094   -2.207   -1.426   ___\n",
    "     15    2.254    4.418    1.178   -4.052   -0.773   ___\n",
    "     16    2.298    4.678    0.733   -2.977    0.876   ___\n",
    "     17   -1.993   -0.273   -0.726    4.904    3.989   ___\n",
    "     18    4.642    0.784   -2.685    6.274   -2.931   ___\n",
    "     19    1.901   -6.476    1.116   -3.593   -4.648   ___\n",
    "     20    3.913   -6.585    2.144   -2.986    3.258   ___\n"
   ]
  },
  {
   "cell_type": "markdown",
   "metadata": {},
   "source": [
    "## Metodología"
   ]
  },
  {
   "cell_type": "markdown",
   "metadata": {},
   "source": [
    "Este tipo de problemas puede ser extremadamente difícil de resolver usando un perceptrón multicapa que es optimizado usando backpropagation.  Con el fin de facilitar la solución de este problema siga las siguientes recomendaciones:\n",
    "\n",
    "* Use 4 neuronas de salida; si el patrón pertenece a la clase C_1 entonces las salidas de la red neuronal deben ser (1, 0, 0, 0); si pertenece a la clase C_2, las salidas son (0, 1, 0, 0) y así sucesivamente.\n",
    "\n",
    "* Las neuronas de la capa de salida son activadas usando la función softmax. Si la entrada neta a la neurona o de la capa de salida se nota como a_2 [o], la salida de cada neurona z_2 [o] se calcula como:\n",
    "\n",
    "$$ z_2 [o]=(exp⁡(a_2 [o]))/(∑_(j=1)^4▒〖exp⁡(a_2 [j])〗)$$\n",
    "\n",
    "* En vez de minimizar la sumatoria del error cuadrático medio, se minimiza la función de entropía cruzada, definida como:\n",
    "\n",
    "E(w)=-∑_(p=1)^200▒∑_(o=1)^4▒{d_p [o]*log⁡(z_(2,p) [o])+(1-d_P [o])*log⁡(1-z_(2,p) [o]) } \n",
    "\n",
    "Note que $z_{2,p} [o]$ es la salida de la neurona o de la capa de salida para el patrón de entrenamiento $p$.    \n",
    "\n"
   ]
  },
  {
   "cell_type": "markdown",
   "metadata": {},
   "source": [
    "---"
   ]
  }
 ],
 "metadata": {
  "kernelspec": {
   "display_name": "Python 3",
   "language": "python",
   "name": "python3"
  },
  "language_info": {
   "codemirror_mode": {
    "name": "ipython",
    "version": 3
   },
   "file_extension": ".py",
   "mimetype": "text/x-python",
   "name": "python",
   "nbconvert_exporter": "python",
   "pygments_lexer": "ipython3",
   "version": "3.6.7"
  }
 },
 "nbformat": 4,
 "nbformat_minor": 2
}
