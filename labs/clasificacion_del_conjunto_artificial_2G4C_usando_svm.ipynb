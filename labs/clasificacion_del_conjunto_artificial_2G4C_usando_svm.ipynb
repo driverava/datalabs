{
 "cells": [
  {
   "cell_type": "markdown",
   "metadata": {},
   "source": [
    "Clasificación del conjunto artificial de datos 2G4C usando SVM\n",
    "==="
   ]
  },
  {
   "cell_type": "markdown",
   "metadata": {},
   "source": [
    "Construya una máquina de vectores de soporte para clasificar el conjunto artificial de datos generado a continuación."
   ]
  },
  {
   "cell_type": "code",
   "execution_count": null,
   "metadata": {},
   "outputs": [],
   "source": [
    "#\n",
    "# Generación del dataset\n",
    "#\n",
    "import warnings\n",
    "\n",
    "import matplotlib.pyplot as plt\n",
    "import pytest\n",
    "from sklearn import svm\n",
    "from sklearn.datasets import make_blobs\n",
    "from sklearn.metrics import confusion_matrix\n",
    "\n",
    "warnings.filterwarnings(\"ignore\")\n",
    "\n",
    "NPOINTS = 400\n",
    "\n",
    "plt.figure(figsize=(8, 8))\n",
    "\n",
    "X, y = make_blobs(\n",
    "    n_samples=NPOINTS,\n",
    "    n_features=2,\n",
    "    centers=[[-3, -3], [-3, 3], [3, -3], [3, 3]],\n",
    "    cluster_std=1.0,\n",
    "    shuffle=False,\n",
    "    random_state=1234,\n",
    ")\n",
    "\n",
    "y[y == 3] = 0\n",
    "y[y == 2] = 1\n",
    "\n",
    "plt.scatter(X[y == 0, 0], X[y == 0, 1], color=\"red\")\n",
    "plt.scatter(X[y == 1, 0], X[y == 1, 1], color=\"blue\")\n",
    "plt.gca().set_aspect(\"equal\", adjustable=\"box\")"
   ]
  },
  {
   "cell_type": "code",
   "execution_count": null,
   "metadata": {},
   "outputs": [],
   "source": [
    "#\n",
    "# Construya una svm que use como variables explicativas\n",
    "# únicamente las columnas de la matriz X y compute la \n",
    "# matriz de confusión (cm). Use todos los valores por\n",
    "# defecto de los parámetros.\n",
    "#\n",
    "# Rta/\n",
    "# True\n",
    "# True\n",
    "# True\n",
    "# True\n",
    "#\n",
    "\n",
    "# >>> Inserte su codigo aquí >>>\n",
    "\n",
    "# ---->>> Evaluación ---->>>\n",
    "# cm es la matriz de confusion\n",
    "print(cm[0][0] == 200)\n",
    "print(cm[0][1] == 0)\n",
    "print(cm[1][0] == 0)\n",
    "print(cm[1][1] == 200)"
   ]
  }
 ],
 "metadata": {
  "kernelspec": {
   "display_name": "Python 3",
   "language": "python",
   "name": "python3"
  },
  "language_info": {
   "codemirror_mode": {
    "name": "ipython",
    "version": 3
   },
   "file_extension": ".py",
   "mimetype": "text/x-python",
   "name": "python",
   "nbconvert_exporter": "python",
   "pygments_lexer": "ipython3",
   "version": "3.6.9"
  }
 },
 "nbformat": 4,
 "nbformat_minor": 4
}
