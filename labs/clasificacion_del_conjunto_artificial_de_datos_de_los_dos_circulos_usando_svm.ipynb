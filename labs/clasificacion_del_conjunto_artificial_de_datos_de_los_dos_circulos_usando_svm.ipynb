{
 "cells": [
  {
   "cell_type": "markdown",
   "metadata": {},
   "source": [
    "# Clasificación del conjunto artificial de datos de los dos círculos usando SVM"
   ]
  },
  {
   "cell_type": "markdown",
   "metadata": {},
   "source": [
    "Construya una svm para el conjunto artificial de datos generado a continuación."
   ]
  },
  {
   "cell_type": "code",
   "execution_count": 4,
   "metadata": {},
   "outputs": [
    {
     "data": {
      "image/png": "[encoded data removed]",
      "text/plain": [
       "<Figure size 432x288 with 1 Axes>"
      ]
     },
     "metadata": {
      "needs_background": "light"
     },
     "output_type": "display_data"
    }
   ],
   "source": [
    "#\n",
    "# Generación del dataset\n",
    "#\n",
    "import warnings\n",
    "\n",
    "import matplotlib.pyplot as plt\n",
    "from sklearn import svm\n",
    "from sklearn.datasets import make_circles\n",
    "from sklearn.metrics import confusion_matrix\n",
    "\n",
    "warnings.filterwarnings(\"ignore\")\n",
    "\n",
    "NPOINTS = 140\n",
    "\n",
    "X, y = make_circles(\n",
    "    n_samples=NPOINTS,\n",
    "    shuffle=False,\n",
    "    noise=0.06,\n",
    "    random_state=12345,\n",
    "    factor=0.6,\n",
    ")\n",
    "\n",
    "#\n",
    "# Se grafica para fines ilustrativos\n",
    "#\n",
    "plt.scatter(X[y == 0, 0], X[y == 0, 1], color=\"red\")\n",
    "plt.scatter(X[y == 1, 0], X[y == 1, 1], color=\"blue\")\n",
    "plt.gca().set_aspect(\"equal\", adjustable=\"box\")"
   ]
  },
  {
   "cell_type": "code",
   "execution_count": 6,
   "metadata": {},
   "outputs": [
    {
     "name": "stdout",
     "output_type": "stream",
     "text": [
      "True\n",
      "True\n",
      "True\n",
      "True\n"
     ]
    }
   ],
   "source": [
    "#\n",
    "# Construya una svm que use como variables explicativas\n",
    "# únicamente las columnas de la matriz X y compute la \n",
    "# matriz de confusión (cm). Use todos los valores por\n",
    "# defecto de los parámetros.\n",
    "#\n",
    "# Rta/\n",
    "# True\n",
    "# True\n",
    "# True\n",
    "# True\n",
    "#\n",
    "\n",
    "# >>> Inserte su codigo aquí >>>\n",
    "\n",
    "# ---->>> Evaluación ---->>>\n",
    "# cm es la matriz de confusion\n",
    "print(cm[0][0] == 70)\n",
    "print(cm[0][1] == 0)\n",
    "print(cm[1][0] == 0)\n",
    "print(cm[1][1] == 70)"
   ]
  }
 ],
 "metadata": {
  "kernelspec": {
   "display_name": "Python 3",
   "language": "python",
   "name": "python3"
  },
  "language_info": {
   "codemirror_mode": {
    "name": "ipython",
    "version": 3
   },
   "file_extension": ".py",
   "mimetype": "text/x-python",
   "name": "python",
   "nbconvert_exporter": "python",
   "pygments_lexer": "ipython3",
   "version": "3.6.9"
  }
 },
 "nbformat": 4,
 "nbformat_minor": 4
}
