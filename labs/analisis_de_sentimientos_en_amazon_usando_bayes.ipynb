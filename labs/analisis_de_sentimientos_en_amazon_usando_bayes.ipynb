{
 "cells": [
  {
   "cell_type": "markdown",
   "metadata": {},
   "source": [
    "<a href=\"https://colab.research.google.com/github/jdvelasq/datalabs/blob/master/labs/analisis_de_sentimientos_en_amazon_usando_bayes.ipynb\" target=\"_parent\"> <img src=\"https://colab.research.google.com/assets/colab-badge.svg\" alt=\"Open In Colab\"/></a>"
   ]
  },
  {
   "cell_type": "markdown",
   "metadata": {},
   "source": [
    "LAB: Análisis de sentimientos de mensajes en Amazon usando Naive Bayes\n",
    "==="
   ]
  },
  {
   "cell_type": "markdown",
   "metadata": {},
   "source": [
    "El archivo que se encuentra disponible en el link"
   ]
  },
  {
   "cell_type": "markdown",
   "metadata": {},
   "source": [
    "https://raw.githubusercontent.com/jdvelasq/datalabs/master/datasets/amazon_cells_labelled.tsv"
   ]
  },
  {
   "cell_type": "markdown",
   "metadata": {},
   "source": [
    "contiene mensajes escritos por los usuarios para productos comprados en Amazon y su valoración (positiva, negativa e indeterminada). En este laboratorio se debe construir un clasificador bayesiano que debe ser entrenado con los mensajes valorados, el cual debe ser posteriormente utilizado para valorar los mensajes con valoración indeterminada."
   ]
  },
  {
   "cell_type": "code",
   "execution_count": null,
   "metadata": {},
   "outputs": [],
   "source": [
    "#\n",
    "# Cargue el archivo usando Pandas e imprima la cantidad de\n",
    "# registros\n",
    "#\n",
    "# Rta/\n",
    "# 14609\n",
    "#\n"
   ]
  },
  {
   "cell_type": "code",
   "execution_count": null,
   "metadata": {},
   "outputs": [],
   "source": [
    "#\n",
    "# Imprima el primer mensaje de texto\n",
    "#\n",
    "# Rta/\n",
    "# 'I try not to adjust the volume setting to avoid that I turn off the call button which is situated just below the volume adjustment knob.'\n",
    "#\n"
   ]
  },
  {
   "cell_type": "code",
   "execution_count": null,
   "metadata": {},
   "outputs": [],
   "source": [
    "#\n",
    "# Imprima la cantidad de mensajes con NaN\n",
    "#\n",
    "# Rta/\n",
    "# 13609\n",
    "#\n"
   ]
  },
  {
   "cell_type": "code",
   "execution_count": null,
   "metadata": {},
   "outputs": [],
   "source": [
    "#\n",
    "# Imprima la cantidad de mensajes con valoración igual a 1.0\n",
    "#\n",
    "# Rta/\n",
    "# 500\n",
    "#\n"
   ]
  },
  {
   "cell_type": "code",
   "execution_count": null,
   "metadata": {},
   "outputs": [],
   "source": [
    "#\n",
    "# Imprima la cantidad de mensajes con valoración igual a 0.0\n",
    "#\n",
    "# Rta/\n",
    "# 500\n",
    "#\n"
   ]
  },
  {
   "cell_type": "code",
   "execution_count": null,
   "metadata": {},
   "outputs": [],
   "source": [
    "#\n",
    "# Genere un nuevo dataset que contenga únicamente los registros\n",
    "# con valoración positiva o negativa e imprima su longitud\n",
    "#\n",
    "# Rta/\n",
    "# 1000\n",
    "#\n"
   ]
  },
  {
   "cell_type": "code",
   "execution_count": null,
   "metadata": {},
   "outputs": [],
   "source": [
    "#\n",
    "# Genere una nueva columna en el nuevo dataset computada como\n",
    "# el resultado de aplicar el stemmer de Porter al mensaje e\n",
    "# imprima el primer mensaje transformado\n",
    "#\n",
    "# Rta/\n",
    "# 'So there is no way for me to plug it in here in the US unless I go by a converter.'\n",
    "#\n"
   ]
  },
  {
   "cell_type": "code",
   "execution_count": null,
   "metadata": {},
   "outputs": [],
   "source": [
    "#\n",
    "# Construya la matriz de terminos del documento considerando\n",
    "# las palabras que tengan una frecuencia entre el 0.1% y el 98%,\n",
    "# y que esten unicamente conformadas por letras.\n",
    "#\n",
    "# Imprima el tamaño del vocabulario.\n",
    "#\n",
    "# Rta/\n",
    "# 1497\n",
    "#\n"
   ]
  },
  {
   "cell_type": "code",
   "execution_count": null,
   "metadata": {},
   "outputs": [],
   "source": [
    "#\n",
    "# Construya un clasificador bayesiano que use los primeros\n",
    "# 500 patrones para entrenamiento y los últimos 500 para\n",
    "# prueba, e imprima el porcentaje de datos para cada clase\n",
    "# para la muestra de entrenamiento-\n",
    "#\n",
    "# Rta/\n",
    "# 1.0    52.2\n",
    "# 0.0    47.8\n",
    "# Name: value, dtype: float64\n",
    "#\n"
   ]
  },
  {
   "cell_type": "code",
   "execution_count": null,
   "metadata": {},
   "outputs": [],
   "source": [
    "#\n",
    "# Imprima el porcentaje de datos para cada clase para la muestra\n",
    "# de prueba\n",
    "#\n",
    "# Rta/\n",
    "# 0.0    52.2\n",
    "# 1.0    47.8\n",
    "# Name: value, dtype: float64\n",
    "#\n"
   ]
  },
  {
   "cell_type": "code",
   "execution_count": null,
   "metadata": {},
   "outputs": [],
   "source": [
    "#\n",
    "# Cree un clasificador de Bayes y entrenelo. Realice el pronostico\n",
    "# para la muestra de entrenamiento y compute la matriz de confusion\n",
    "#\n",
    "# Rta/\n",
    "# array([[214,  25],\n",
    "#        [  1, 260]])\n",
    "#\n"
   ]
  },
  {
   "cell_type": "code",
   "execution_count": null,
   "metadata": {},
   "outputs": [],
   "source": [
    "#\n",
    "# Realice el pronóstico para la muestra de entrenamiento y compute\n",
    "# la matriz de confusión\n",
    "#\n",
    "# Rta/\n",
    "# array([[153, 108],\n",
    "#        [ 29, 210]])\n",
    "#\n"
   ]
  },
  {
   "cell_type": "code",
   "execution_count": null,
   "metadata": {},
   "outputs": [],
   "source": [
    "#\n",
    "# Realice el pronostico para los mensajes con valoración \n",
    "# indeterminada y compute la cantidad de mensajes positivos\n",
    "#\n",
    "# Rta/\n",
    "# 8233\n",
    "#\n"
   ]
  }
 ],
 "metadata": {
  "kernel_info": {
   "name": "python3"
  },
  "kernelspec": {
   "display_name": "Python 3",
   "language": "python",
   "name": "python3"
  },
  "language_info": {
   "codemirror_mode": {
    "name": "ipython",
    "version": 3
   },
   "file_extension": ".py",
   "mimetype": "text/x-python",
   "name": "python",
   "nbconvert_exporter": "python",
   "pygments_lexer": "ipython3",
   "version": "3.6.9"
  },
  "nteract": {
   "version": "0.7.1"
  },
  "varInspector": {
   "cols": {
    "lenName": 16,
    "lenType": 16,
    "lenVar": 40
   },
   "kernels_config": {
    "python": {
     "delete_cmd_postfix": "",
     "delete_cmd_prefix": "del ",
     "library": "var_list.py",
     "varRefreshCmd": "print(var_dic_list())"
    },
    "r": {
     "delete_cmd_postfix": ") ",
     "delete_cmd_prefix": "rm(",
     "library": "var_list.r",
     "varRefreshCmd": "cat(var_dic_list()) "
    }
   },
   "types_to_exclude": [
    "module",
    "function",
    "builtin_function_or_method",
    "instance",
    "_Feature"
   ],
   "window_display": false
  }
 },
 "nbformat": 4,
 "nbformat_minor": 4
}
