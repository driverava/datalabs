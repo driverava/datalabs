{
 "cells": [
  {
   "cell_type": "markdown",
   "metadata": {},
   "source": [
    "# Clasificación del conjunto artificial de datos de los dos círculos usando MLP"
   ]
  },
  {
   "cell_type": "markdown",
   "metadata": {},
   "source": [
    "Construya un perceptrón multicapa que permita clasificr correctamente el conjunto artificial de datos generado a continuación y grafique las fronteras de decisión.\n",
    "\n",
    "**Ayuda**: https://scikit-learn.org/stable/auto_examples/neighbors/plot_classification.html#sphx-glr-auto-examples-neighbors-plot-classification-py"
   ]
  },
  {
   "cell_type": "code",
   "execution_count": null,
   "metadata": {},
   "outputs": [],
   "source": [
    "import warnings\n",
    "\n",
    "warnings.filterwarnings(\"ignore\")"
   ]
  },
  {
   "cell_type": "code",
   "execution_count": null,
   "metadata": {},
   "outputs": [],
   "source": [
    "#\n",
    "# Generación de los datos\n",
    "#\n",
    "from sklearn.datasets import make_circles\n",
    "\n",
    "NPOINTS = 140\n",
    "\n",
    "X, y = make_circles(\n",
    "    n_samples=NPOINTS, \n",
    "    shuffle=False, \n",
    "    noise=0.06, \n",
    "    random_state=12345,\n",
    "    factor=0.6)\n",
    "\n",
    "#\n",
    "# Graficación\n",
    "#\n",
    "import matplotlib.pyplot as plt\n",
    "\n",
    "plt.figure(figsize=(8, 8))\n",
    "plt.scatter(X[:70,0], X[:70,1], color='red')\n",
    "plt.scatter(X[70:,0], X[70:,1], color='blue')\n",
    "plt.gca().set_aspect('equal', adjustable='box')"
   ]
  },
  {
   "cell_type": "code",
   "execution_count": null,
   "metadata": {},
   "outputs": [],
   "source": []
  }
 ],
 "metadata": {
  "kernelspec": {
   "display_name": "Python 3",
   "language": "python",
   "name": "python3"
  },
  "language_info": {
   "codemirror_mode": {
    "name": "ipython",
    "version": 3
   },
   "file_extension": ".py",
   "mimetype": "text/x-python",
   "name": "python",
   "nbconvert_exporter": "python",
   "pygments_lexer": "ipython3",
   "version": "3.6.9"
  }
 },
 "nbformat": 4,
 "nbformat_minor": 4
}
