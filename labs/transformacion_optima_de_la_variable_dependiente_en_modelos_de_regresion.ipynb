{
 "cells": [
  {
   "cell_type": "markdown",
   "metadata": {},
   "source": [
    "<a href=\"https://colab.research.google.com/github/jdvelasq/datalabs/blob/master/labs/transformacion_optima_de_la_variable_dependiente_en_modelos_de_regresion.ipynb\" target=\"_parent\"> <img src=\"https://colab.research.google.com/assets/colab-badge.svg\" alt=\"Open In Colab\"/></a>"
   ]
  },
  {
   "cell_type": "markdown",
   "metadata": {},
   "source": [
    "LAB --- Transformación optima de la variable dependiente en modelos de regresión\n",
    "==="
   ]
  },
  {
   "cell_type": "markdown",
   "metadata": {},
   "source": [
    "En el desarrollo de modelos de regresión siempre se debería verificar si la precisión del pronóstico puede mejorar mediante una transformación no lineal de la variable dependiente. El objetivo de este laboratorio es determinar si una transformación de Box-Cox permite mejorar la precisión del modelo para un conjunto de datos. "
   ]
  },
  {
   "cell_type": "markdown",
   "metadata": {},
   "source": [
    "## Descripción del conjunto de datos"
   ]
  },
  {
   "cell_type": "markdown",
   "metadata": {},
   "source": [
    "Una compañía de seguros desea pronósticar los gastos médicos de la población asegurada con el fin de recolectar un valor superior en ingresos, tal que le permita obtener utilidades. Los costos son difíciles de pronósticar ya que las condiciones más costosas son más raras y parecen aleatorias; y que ciertas condiciones son más probables para ciertos segmentos de la población (infarto en personas obesas y cáncer en fumadores)."
   ]
  },
  {
   "cell_type": "markdown",
   "metadata": {},
   "source": [
    "El objetivo es usar una base de datos con 1338 registros de gastos médicos hipotéticos para pacientes de EU con el fin de estimar los costos para determinados segmentos de la población, la cual se encuentra disponible en\n",
    "\n",
    "https://raw.githubusercontent.com/jdvelasq/datalabs/master/datasets/insurance.csv\n",
    "\n",
    "La información registrada es la siguiente:\n",
    "\n",
    "* Age: entero hasta 64.\n",
    "\n",
    "* Sex: male, female.\n",
    "\n",
    "* bmi: Body mass index.\n",
    "\n",
    "* children: entero indicando la cantidad de hijos/dependientes cubiertos por el plan de salud.\n",
    "\n",
    "* smoker: yes, no.\n",
    "\n",
    "* region: northest, southeast, southwest, northwest.\n",
    "\n",
    "* charges: costos.\n"
   ]
  },
  {
   "cell_type": "code",
   "execution_count": null,
   "metadata": {},
   "outputs": [],
   "source": [
    "import warnings\n",
    "\n",
    "warnings.filterwarnings(\"ignore\")"
   ]
  },
  {
   "cell_type": "code",
   "execution_count": null,
   "metadata": {},
   "outputs": [],
   "source": [
    "#\n",
    "# Realice la lectura de datos e imprima la cantidad de registros leidos\n",
    "#\n",
    "# Rta/\n",
    "# 1338\n",
    "#\n"
   ]
  },
  {
   "cell_type": "code",
   "execution_count": null,
   "metadata": {},
   "outputs": [],
   "source": [
    "#\n",
    "# Las columnas sex, smoker, region son strings.\n",
    "# Se convierten a variables categoricas usando\n",
    "# LabelEncoder de scikit-learn. Imprima los tipos\n",
    "# de las columnas como resultado\n",
    "#\n",
    "# Rta/\n",
    "# age                int64\n",
    "# sex               object\n",
    "# bmi              float64\n",
    "# children           int64\n",
    "# smoker            object\n",
    "# region            object\n",
    "# charges          float64\n",
    "# sex_factor         int64\n",
    "# smoker_factor      int64\n",
    "# region_factor      int64\n",
    "# dtype: object\n",
    "#\n"
   ]
  },
  {
   "cell_type": "code",
   "execution_count": null,
   "metadata": {},
   "outputs": [],
   "source": [
    "#\n",
    "# Para aplicar la transformación de Box-Cox la escala \n",
    "# de los datos puede generar problemas. Divida la columna\n",
    "# charges por 10000 y luego sumele 2.0. \n",
    "# Imprima los primeros cinco valores de la columna\n",
    "#\n",
    "# Rta/\n",
    "# 0    3.688492\n",
    "# 1    2.172555\n",
    "# 2    2.444946\n",
    "# 3    4.198447\n",
    "# 4    2.386686\n",
    "# Name: charges, dtype: float64\n",
    "#        \n"
   ]
  },
  {
   "cell_type": "code",
   "execution_count": null,
   "metadata": {},
   "outputs": [],
   "source": [
    "#\n",
    "# Use los primeros 1000 datos para estimación de parámetros\n",
    "# y los 338 restantes para validación\n",
    "#\n"
   ]
  },
  {
   "cell_type": "markdown",
   "metadata": {},
   "source": [
    "## Pronóstico usando un modelo de regresión lineal"
   ]
  },
  {
   "cell_type": "code",
   "execution_count": null,
   "metadata": {},
   "outputs": [],
   "source": [
    "#\n",
    "# Estime un modelo lineal que use todas las variables\n",
    "# explicativas (numéricas) y reporte el MSE para la \n",
    "# muestra de entrenamiento\n",
    "#\n",
    "# Rta/\n",
    "# 0.3492548046438354\n",
    "#\n"
   ]
  },
  {
   "cell_type": "code",
   "execution_count": null,
   "metadata": {},
   "outputs": [],
   "source": [
    "#\n",
    "# Reporte el MSE para la muestra de prueba\n",
    "#\n",
    "# Rta/\n",
    "# 0.4150890835383797\n",
    "#\n"
   ]
  },
  {
   "cell_type": "code",
   "execution_count": null,
   "metadata": {},
   "outputs": [],
   "source": [
    "#\n",
    "# Use la siguiente implementación de la\n",
    "# transformación de Box-Cox\n",
    "#\n",
    "import numpy as np\n",
    "\n",
    "\n",
    "def boxcox(z, Lambda):\n",
    "    if Lambda == 0:\n",
    "        return np.log(z)\n",
    "    return (np.power(z, Lambda) - 1.0) / Lambda\n",
    "\n",
    "\n",
    "def boxcox_inv(z, Lambda):\n",
    "    if Lambda == 0:\n",
    "        return np.exp(z)\n",
    "    return np.power(Lambda * z + 1.0, 1.0 / Lambda)"
   ]
  },
  {
   "cell_type": "code",
   "execution_count": null,
   "metadata": {},
   "outputs": [],
   "source": [
    "#\n",
    "# Evalue lambdas entre 0.00 y 1.00 con incrementos de 0.01.\n",
    "# Busque el lambda que genera el mejor pronóstico para la\n",
    "# muestra de prueba.\n",
    "# Reporte el lambda y los MSE de entrenamiento y prueba\n",
    "# cada vez que se obtenga un MSE de prueba mejor\n",
    "#\n",
    "# Rta/\n",
    "# 0.00  0.3404  0.4145\n",
    "# 0.01  0.3401  0.4141\n",
    "# 0.02  0.3399  0.4137\n",
    "# 0.03  0.3397  0.4133\n",
    "# 0.04  0.3395  0.4130\n",
    "# 0.05  0.3393  0.4126\n",
    "# 0.06  0.3391  0.4123\n",
    "# 0.07  0.3389  0.4120\n",
    "# 0.08  0.3387  0.4117\n",
    "# 0.09  0.3386  0.4113\n",
    "# 0.10  0.3384  0.4110\n",
    "# 0.11  0.3382  0.4107\n",
    "# 0.12  0.3381  0.4104\n",
    "# 0.13  0.3379  0.4102\n",
    "# 0.14  0.3378  0.4099\n",
    "# 0.15  0.3377  0.4096\n",
    "# 0.16  0.3376  0.4094\n",
    "# 0.17  0.3374  0.4091\n",
    "# 0.18  0.3373  0.4089\n",
    "# 0.19  0.3372  0.4087\n",
    "# 0.20  0.3371  0.4084\n",
    "# 0.21  0.3371  0.4082\n",
    "# 0.22  0.3370  0.4080\n",
    "# 0.23  0.3369  0.4078\n",
    "# 0.24  0.3368  0.4076\n",
    "# 0.25  0.3368  0.4074\n",
    "# 0.26  0.3367  0.4072\n",
    "# 0.27  0.3367  0.4071\n",
    "# 0.28  0.3366  0.4069\n",
    "# 0.29  0.3366  0.4068\n",
    "# 0.30  0.3366  0.4066\n",
    "# 0.31  0.3365  0.4065\n",
    "# 0.32  0.3365  0.4063\n",
    "# 0.33  0.3365  0.4062\n",
    "# 0.34  0.3365  0.4061\n",
    "# 0.35  0.3365  0.4060\n",
    "# 0.36  0.3365  0.4059\n",
    "# 0.37  0.3365  0.4058\n",
    "# 0.38  0.3365  0.4057\n",
    "# 0.39  0.3366  0.4056\n",
    "# 0.40  0.3366  0.4056\n",
    "# 0.41  0.3366  0.4055\n",
    "# 0.42  0.3367  0.4054\n",
    "# 0.43  0.3367  0.4054\n",
    "# 0.44  0.3368  0.4053\n",
    "# 0.45  0.3368  0.4053\n",
    "# 0.46  0.3369  0.4053\n",
    "# 0.47  0.3370  0.4053\n",
    "# 0.48  0.3370  0.4052\n",
    "# 0.49  0.3371  0.4052\n",
    "#\n",
    "\n"
   ]
  },
  {
   "cell_type": "code",
   "execution_count": null,
   "metadata": {},
   "outputs": [],
   "source": [
    "# \n",
    "# Realice un gráfico de scatter que compare los \n",
    "# charges reales vs los pronósticos para las muestras\n",
    "# de entrenamiento y prueba\n",
    "#\n"
   ]
  }
 ],
 "metadata": {
  "kernel_info": {
   "name": "python3"
  },
  "kernelspec": {
   "display_name": "Python 3",
   "language": "python",
   "name": "python3"
  },
  "language_info": {
   "codemirror_mode": {
    "name": "ipython",
    "version": 3
   },
   "file_extension": ".py",
   "mimetype": "text/x-python",
   "name": "python",
   "nbconvert_exporter": "python",
   "pygments_lexer": "ipython3",
   "version": "3.6.9"
  },
  "nteract": {
   "version": "0.7.1"
  },
  "varInspector": {
   "cols": {
    "lenName": 16,
    "lenType": 16,
    "lenVar": 40
   },
   "kernels_config": {
    "python": {
     "delete_cmd_postfix": "",
     "delete_cmd_prefix": "del ",
     "library": "var_list.py",
     "varRefreshCmd": "print(var_dic_list())"
    },
    "r": {
     "delete_cmd_postfix": ") ",
     "delete_cmd_prefix": "rm(",
     "library": "var_list.r",
     "varRefreshCmd": "cat(var_dic_list()) "
    }
   },
   "types_to_exclude": [
    "module",
    "function",
    "builtin_function_or_method",
    "instance",
    "_Feature"
   ],
   "window_display": false
  }
 },
 "nbformat": 4,
 "nbformat_minor": 4
}
