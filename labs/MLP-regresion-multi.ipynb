{
 "cells": [
  {
   "cell_type": "markdown",
   "metadata": {},
   "source": [
    "Regresión no lineal multivariada\n",
    "==="
   ]
  },
  {
   "cell_type": "markdown",
   "metadata": {},
   "source": [
    "## Objetivos de aprendizaje\n",
    "- Reconocer la metodología para implementar un perceptrón multicapa en un caso de regresión no lineal multivariada"
   ]
  },
  {
   "cell_type": "markdown",
   "metadata": {},
   "source": [
    "## Definición del problema real"
   ]
  },
  {
   "cell_type": "markdown",
   "metadata": {},
   "source": [
    "El archivo `data/MulticapaRegresionMulti.csv` contiene 200 registros para la variables $x_0$, $x_1$, ..., $x_9$ y $y$, los cuales fueron obtenidos en un experimento de laboratorio. Se desea construir un modelo de regresión que permita obtener los valores de $y$ para los siguientes datos de entrada:\n",
    "\n",
    "      #     x0     x1     x2     x3     x4     x5     x6     x7     x8     x9       y\n",
    "     ----------------------------------------------------------------------------------\n",
    "      1  0.806  0.725  0.768  0.333  0.101  0.153  0.289  0.587  0.607  0.897  ______\n",
    "      2  0.504  0.902  0.576  0.409  0.737  0.738  0.962  0.917  0.353  0.768  ______\n",
    "      3  0.493  0.929  0.342  0.345  0.328  0.433  0.111  0.511  0.820  0.359  ______\n",
    "      4  0.775  0.192  0.643  0.643  0.297  0.879  0.546  0.628  0.721  0.038  ______\n",
    "      5  0.400  0.848  0.743  0.361  0.265  0.474  0.799  0.535  0.998  0.152  ______\n",
    "      6  0.951  0.033  0.108  0.389  0.973  0.430  0.018  0.017  0.121  0.533  ______\n",
    "      7  0.843  0.403  0.283  0.384  0.288  0.395  0.668  0.948  0.861  0.424  ______\n",
    "      8  0.262  0.718  0.001  0.428  0.832  0.722  0.422  0.934  0.139  0.519  ______\n",
    "      9  0.183  0.550  0.186  0.209  0.822  0.486  0.332  0.495  0.406  0.057  ______\n",
    "     10  0.795  0.118  0.781  0.617  0.393  0.736  0.649  0.422  0.313  0.935  ______\n",
    "\n",
    "El problema es dificil por las siguientes razones:\n",
    "\n",
    "* Hay variables explicativas no relevantes.\n",
    "\n",
    "* Algunas variables explicativas pueden tener una relación no lineal con la variable de salida.\n",
    "\n",
    "* Se desconoce el tipo de relación entre las variables explicativas y la variable explicada."
   ]
  },
  {
   "cell_type": "markdown",
   "metadata": {},
   "source": [
    "## Definición del problema en términos de los datos"
   ]
  },
  {
   "cell_type": "markdown",
   "metadata": {},
   "source": [
    "Se debe construir un modelo no lineal que permita aproximar la relación entre las variables explicativas y la variable explicada, tal que:\n",
    "\n",
    "* Sea posible descartar las variables que no aportan información.\n",
    "\n",
    "\n",
    "* Se pueda determinar si existe alguna transformación no lineal de las variables explicativas que permita mejorar la precisón del modelo o permita encontrar un modelo más parsimonioso. \n",
    "\n",
    "\n",
    "* Se pueda determinar adecuadamente la complejidad del modelo no lineal tal que se maximice la capacida de generalización.\n"
   ]
  },
  {
   "cell_type": "markdown",
   "metadata": {},
   "source": [
    "## Metodología"
   ]
  },
  {
   "cell_type": "markdown",
   "metadata": {},
   "source": [
    "### Tranformación de variables"
   ]
  },
  {
   "cell_type": "markdown",
   "metadata": {},
   "source": [
    "Tal como se define en el caso lineal, existen modelos no lineales que pueden ser linealizados por alguna transformación de las variables (tanto la dependiente como las independientes). Entre ellas se encuentran:\n",
    "\n",
    "* Logaritmo natural.\n",
    "\n",
    "\n",
    "* Exponencial.\n",
    "\n",
    "\n",
    "* Transformación logística.\n",
    "\n",
    "$$z=\\log \\left( \\frac{cx}{1-cx}  \\right) \\text{  con  }c = (1-10^-6)*10^{\\text{-ceil}(\\log_{10}(\\max(x)))} $$\n",
    "\n",
    "\n",
    "* Raíz cuadrada.\n",
    "\n",
    "\n",
    "* Raíz cúbica.\n",
    "\n",
    "\n",
    "* Box-Cox.\n",
    "\n",
    "$$z=\\frac{x^\\lambda - 1}{\\lambda} \\text{para } \\lambda \\ne 0 \\text{ y } \\log(x) \\text{ para } \\lambda =0$$\n",
    "\n",
    "\n",
    "* Turkey.\n",
    "\n",
    "$$ \\arcsin\\left( \\sqrt{\\frac{x}{n}} \\right), \\quad \\sqrt{x} + \\sqrt{x+1}$$"
   ]
  },
  {
   "cell_type": "markdown",
   "metadata": {},
   "source": [
    "Sin embargo, las transformaciones más apropiadas deben determinarse por ensayo y error."
   ]
  },
  {
   "cell_type": "markdown",
   "metadata": {},
   "source": [
    "### Selección de variables"
   ]
  },
  {
   "cell_type": "markdown",
   "metadata": {},
   "source": [
    "Existen dos tipos de metodologías:\n",
    "\n",
    "* Independientes del modelo: Se usa alguna técnica para seleccionar las entradas correctas antes de especificar la red neuronal. Por ejemplo, se estima un modelo de regresión lineal con interacciones seleccionando únicamente las variables estadísticamente relevantes. Las variables finalmente seleccionadas se usan para especificar la red neuronal.\n",
    "\n",
    "\n",
    "* Dependientes del modelo: La selección de las entradas se realiza como parte de la especificación del modelo de redes neuronales"
   ]
  },
  {
   "cell_type": "markdown",
   "metadata": {},
   "source": [
    "En los métodos de selección dependientes del modelo, se usa alguna medida que castiga la complejidad de la red neuronal artificial, como por ejemplo el criterio de información de Akaike o crossvalidation. Se supone que se conoce el número adecuado de neuronas en la capa oculta. Entre estas técnicas se encuentran:\n",
    "\n",
    "* Seleccion forward. Se inicia sin variables de entrada y se adiciona una a la vez.\n",
    "\n",
    "\n",
    "* Selección backward. Se inicia con todas las entradas y se elimina una a la vez.\n",
    "\n",
    "\n",
    "* Selección stepwise. Combinación de los dos métodos anteriores.\n",
    "\n",
    "Ningún método garantiza que se converga a las verdaderas entradas relevantes del modelo."
   ]
  },
  {
   "cell_type": "markdown",
   "metadata": {},
   "source": [
    "## Solución "
   ]
  },
  {
   "cell_type": "markdown",
   "metadata": {},
   "source": [
    "Para resolver el problema numérico, realice las siguientes actividades:\n",
    "\n",
    "* Construya modelos lineales en que aplique distintas transformaciones a las variables. Determine cuales son las variables relevantes.\n",
    "\n",
    "\n",
    "* Una vez seleccione las variables relevantes, determine la cantidad de neuronas apropiadas para la capa oculta."
   ]
  },
  {
   "cell_type": "markdown",
   "metadata": {},
   "source": [
    "---"
   ]
  }
 ],
 "metadata": {
  "kernelspec": {
   "display_name": "Python 3",
   "language": "python",
   "name": "python3"
  },
  "language_info": {
   "codemirror_mode": {
    "name": "ipython",
    "version": 3
   },
   "file_extension": ".py",
   "mimetype": "text/x-python",
   "name": "python",
   "nbconvert_exporter": "python",
   "pygments_lexer": "ipython3",
   "version": "3.7.1"
  }
 },
 "nbformat": 4,
 "nbformat_minor": 2
}
