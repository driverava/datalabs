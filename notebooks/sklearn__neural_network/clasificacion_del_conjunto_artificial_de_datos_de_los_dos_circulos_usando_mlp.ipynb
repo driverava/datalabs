{
 "cells": [
  {
   "cell_type": "markdown",
   "metadata": {},
   "source": [
    "Clasificación del conjunto artificial de datos de los dos círculos usando MLP\n",
    "==="
   ]
  },
  {
   "cell_type": "markdown",
   "metadata": {},
   "source": [
    "Construya un perceptrón multicapa para el conjunto artificial de datos generado a continuación."
   ]
  },
  {
   "cell_type": "code",
   "execution_count": null,
   "metadata": {},
   "outputs": [],
   "source": [
    "#\n",
    "# Generación del dataset\n",
    "#\n",
    "import warnings\n",
    "\n",
    "import matplotlib.pyplot as plt\n",
    "import pytest\n",
    "from sklearn.datasets import make_circles\n",
    "from sklearn.metrics import confusion_matrix\n",
    "from sklearn.neural_network import MLPClassifier\n",
    "\n",
    "warnings.filterwarnings(\"ignore\")\n",
    "\n",
    "NPOINTS = 140\n",
    "\n",
    "X, y = make_circles(\n",
    "    n_samples=NPOINTS,\n",
    "    shuffle=False,\n",
    "    noise=0.06,\n",
    "    random_state=12345,\n",
    "    factor=0.6,\n",
    ")\n",
    "\n",
    "#\n",
    "# Se grafica para fines ilustrativos\n",
    "#\n",
    "plt.scatter(X[y == 0, 0], X[y == 0, 1], color=\"red\")\n",
    "plt.scatter(X[y == 1, 0], X[y == 1, 1], color=\"blue\")\n",
    "plt.gca().set_aspect(\"equal\", adjustable=\"box\")"
   ]
  },
  {
   "cell_type": "code",
   "execution_count": null,
   "metadata": {},
   "outputs": [],
   "source": [
    "#\n",
    "# Construya una red neuronal con una (1) capa oculta, \n",
    "# y una sola neurona en dicha capa. Use los valores por\n",
    "# defecto para los demas parámetros. Use 12345 como\n",
    "# random_state.\n",
    "#\n",
    "# Use como variables explicativas únicamente las columnas\n",
    "# de la matriz X. Compute la matriz de confusión (cm).\n",
    "#\n",
    "# Rta/\n",
    "# True\n",
    "# True\n",
    "# True\n",
    "# True\n",
    "#\n",
    "\n",
    "# >>> Inserte su codigo aquí >>>\n",
    "\n",
    "# cm es la matriz de confusion\n",
    "print(cm[0][0] == 21)\n",
    "print(cm[0][1] == 49)\n",
    "print(cm[1][0] == 5)\n",
    "print(cm[1][1] == 65)"
   ]
  },
  {
   "cell_type": "code",
   "execution_count": null,
   "metadata": {},
   "outputs": [],
   "source": [
    "#\n",
    "# Compute la precisión del modelo\n",
    "#\n",
    "# Rta/\n",
    "# True\n",
    "#\n",
    "\n",
    "# >>> Inserte su codigo aquí >>>\n",
    "precision = None\n",
    "\n",
    "\n",
    "# ---->>> Evaluación ---->>>\n",
    "pytest.approx(0.61428, 0.0001) == precision"
   ]
  },
  {
   "cell_type": "code",
   "execution_count": null,
   "metadata": {},
   "outputs": [],
   "source": [
    "#\n",
    "# Construya un modelo con dos neuronas en la capa\n",
    "# oculta y compute la matriz de confusión (cm).\n",
    "#\n",
    "# Rta/\n",
    "# True\n",
    "# True\n",
    "# True\n",
    "# True\n",
    "#\n",
    "\n",
    "# >>> Inserte su codigo aquí >>>\n",
    "\n",
    "# ---->>> Evaluación ---->>>\n",
    "# cm es la matriz de confusion\n",
    "print(cm[0][0] == 0)\n",
    "print(cm[0][1] == 70)\n",
    "print(cm[1][0] == 0)\n",
    "print(cm[1][1] == 70)"
   ]
  },
  {
   "cell_type": "code",
   "execution_count": null,
   "metadata": {},
   "outputs": [],
   "source": [
    "#\n",
    "# Construya un modelo con cinco neuronas en la capa\n",
    "# oculta y compute la matriz de confusión (cm).\n",
    "#\n",
    "# Rta/\n",
    "# True\n",
    "# True\n",
    "# True\n",
    "# True\n",
    "#\n",
    "\n",
    "# >>> Inserte su codigo aquí >>>\n",
    "\n",
    "# ---->>> Evaluación ---->>>\n",
    "# cm es la matriz de confusion\n",
    "print(cm[0][0] == 0)\n",
    "print(cm[0][1] == 70)\n",
    "print(cm[1][0] == 0)\n",
    "print(cm[1][1] == 70)"
   ]
  },
  {
   "cell_type": "code",
   "execution_count": null,
   "metadata": {},
   "outputs": [],
   "source": [
    "#\n",
    "# Contruya la expansión polinomial de grado dos de las \n",
    "# columnas de la matriz X (PolynomialFeatures) y construya\n",
    "# nuevamente el modelo de redes neuronales con cinco (5) \n",
    "# neurona en la capa oculta.\n",
    "#\n",
    "# Rta/\n",
    "#\n",
    "# Rta/\n",
    "# True\n",
    "# True\n",
    "# True\n",
    "# True\n",
    "#\n",
    "\n",
    "# >>> Inserte su codigo aquí >>>\n",
    "\n",
    "# ---->>> Evaluación ---->>>\n",
    "# cm es la matriz de confusion\n",
    "print(cm[0][0] == 51)\n",
    "print(cm[0][1] == 19)\n",
    "print(cm[1][0] == 11)\n",
    "print(cm[1][1] == 59)"
   ]
  },
  {
   "cell_type": "code",
   "execution_count": null,
   "metadata": {},
   "outputs": [],
   "source": [
    "#\n",
    "# Como puede observar, la expansión polinomial lleva a \n",
    "# mejores resultados del modelo. Sin embargo, los \n",
    "# resultados son dependientes de la semilla aleatoria\n",
    "# suministrada (la cual afecta los valores iniciales de\n",
    "# los parámetros.\n",
    "#\n",
    "# Imprima la matriz de confusión para el modelo con mayor\n",
    "# precisión entre los modelos obtenidos cuando se consideran\n",
    "# semillas de 1000, 1001, 1002, 1003, 1004, 1005 y desde \n",
    "# una hasta cinco neuronas en la capa oculta.\n",
    "#\n",
    "# Rta/\n",
    "# True\n",
    "# True\n",
    "# True\n",
    "# True\n",
    "#\n",
    "\n",
    "# >>> Inserte su codigo aquí >>>\n",
    "\n",
    "# ---->>> Evaluación ---->>>\n",
    "# cm es la matriz de confusion\n",
    "print(cm[0][0] == 68)\n",
    "print(cm[0][1] == 2)\n",
    "print(cm[1][0] == 6)\n",
    "print(cm[1][1] == 64)"
   ]
  }
 ],
 "metadata": {
  "kernelspec": {
   "display_name": "Python 3",
   "language": "python",
   "name": "python3"
  },
  "language_info": {
   "codemirror_mode": {
    "name": "ipython",
    "version": 3
   },
   "file_extension": ".py",
   "mimetype": "text/x-python",
   "name": "python",
   "nbconvert_exporter": "python",
   "pygments_lexer": "ipython3",
   "version": "3.6.9"
  }
 },
 "nbformat": 4,
 "nbformat_minor": 4
}
