{
 "cells": [
  {
   "cell_type": "markdown",
   "metadata": {
    "tags": []
   },
   "source": [
    "# Clasificación del conjunto artificial de datos de 2G4C usando MLP"
   ]
  },
  {
   "cell_type": "markdown",
   "metadata": {},
   "source": [
    "Construya un perceptrón multicapa para el conjunto artificial de datos generado a continuación."
   ]
  },
  {
   "cell_type": "code",
   "execution_count": null,
   "metadata": {},
   "outputs": [],
   "source": [
    "#\n",
    "# Generación del dataset\n",
    "#\n",
    "import warnings\n",
    "\n",
    "import matplotlib.pyplot as plt\n",
    "import pytest\n",
    "from sklearn.datasets import make_blobs\n",
    "from sklearn.metrics import confusion_matrix\n",
    "from sklearn.neural_network import MLPClassifier\n",
    "\n",
    "warnings.filterwarnings(\"ignore\")\n",
    "\n",
    "NPOINTS = 400\n",
    "\n",
    "plt.figure(figsize=(8, 8))\n",
    "\n",
    "X, y = make_blobs(\n",
    "    n_samples=NPOINTS,\n",
    "    n_features=2,\n",
    "    centers=[[-3, -3], [-3, 3], [3, -3], [3, 3]],\n",
    "    cluster_std=1.0,\n",
    "    shuffle=False,\n",
    "    random_state=1234,\n",
    ")\n",
    "\n",
    "y[y == 3] = 0\n",
    "y[y == 2] = 1\n",
    "\n",
    "plt.scatter(X[y == 0, 0], X[y == 0, 1], color=\"red\")\n",
    "plt.scatter(X[y == 1, 0], X[y == 1, 1], color=\"blue\")\n",
    "plt.gca().set_aspect(\"equal\", adjustable=\"box\")"
   ]
  },
  {
   "cell_type": "code",
   "execution_count": null,
   "metadata": {},
   "outputs": [],
   "source": [
    "#\n",
    "# Imprima la matriz de confusión para el modelo con mayor\n",
    "# precisión entre los modelos obtenidos cuando se consideran\n",
    "# semillas de 1000, 1001, 1002, 1003, 1004, 1005 y desde \n",
    "# una hasta cinco neuronas en la capa oculta. Use únicamente\n",
    "# como entradas las columnas de la matriz X.\n",
    "#\n",
    "# Rta/\n",
    "# True\n",
    "# True\n",
    "# True\n",
    "# True\n",
    "#\n",
    "\n",
    "# >>> Inserte su codigo aquí >>>\n",
    "\n",
    "# ---->>> Evaluación ---->>>\n",
    "# cm es la matriz de confusion\n",
    "print(cm[0][0] == 198)\n",
    "print(cm[0][1] == 2)\n",
    "print(cm[1][0] == 3)\n",
    "print(cm[1][1] == 197)"
   ]
  }
 ],
 "metadata": {
  "kernelspec": {
   "display_name": "Python 3",
   "language": "python",
   "name": "python3"
  },
  "language_info": {
   "codemirror_mode": {
    "name": "ipython",
    "version": 3
   },
   "file_extension": ".py",
   "mimetype": "text/x-python",
   "name": "python",
   "nbconvert_exporter": "python",
   "pygments_lexer": "ipython3",
   "version": "3.6.9"
  }
 },
 "nbformat": 4,
 "nbformat_minor": 4
}
