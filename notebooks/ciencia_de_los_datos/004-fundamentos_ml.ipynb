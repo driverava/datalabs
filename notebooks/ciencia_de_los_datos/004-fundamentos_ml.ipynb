{
 "cells": [
  {
   "cell_type": "markdown",
   "id": "d2eab6e4-eb9f-43cc-883d-2c2d07b8db4f",
   "metadata": {
    "tags": []
   },
   "source": [
    "Fundamentos de machine learning\n",
    "==="
   ]
  },
  {
   "cell_type": "markdown",
   "id": "d51828b9-1927-46ca-99b7-f0457bf1fdcd",
   "metadata": {},
   "source": [
    "Preparación\n",
    "----"
   ]
  },
  {
   "cell_type": "code",
   "execution_count": 2,
   "id": "86a3a063-4324-4f75-af9f-581c698abc5f",
   "metadata": {},
   "outputs": [
    {
     "data": {
      "text/plain": [
       "0    Geo-location data; Human mobility; Resilience;...\n",
       "1    Language analysis; LIWC; Moral foundations the...\n",
       "2    Gravity model; Media ecosystem; News spreading...\n",
       "3    Centrality measures; Community Structure; Infl...\n",
       "4    Cholesterol; Diabetes; Digital purchase record...\n",
       "Name: Author Keywords, dtype: object"
      ]
     },
     "execution_count": 2,
     "metadata": {},
     "output_type": "execute_result"
    }
   ],
   "source": [
    "import pandas as pd\n",
    "\n",
    "scopus = pd.read_csv(\"https://raw.githubusercontent.com/jdvelasq/datalabs/master/datasets/scopus-papers.csv\")\n",
    "scopus['Author Keywords'].head()"
   ]
  },
  {
   "cell_type": "markdown",
   "id": "e6889572-587b-4c6f-a60e-88baae0d2603",
   "metadata": {},
   "source": [
    "Descripción del problema\n",
    "---"
   ]
  },
  {
   "cell_type": "markdown",
   "id": "6da5e57a-432b-4663-8ab4-c2434b46ba5c",
   "metadata": {},
   "source": [
    "La columna `'Author Keywords'` contiene las palabras claves de un conjunto de artículos extraído de Scopus. Estas palabras clave son consideradas descriptores del contenido del artículo, por lo que su análisis permite establecer el contenido conceptual de un cuerpo de literatura. De ahí que muchas técnicas de estadística y aprendizaje de máquinas sean empleadas para su análisis."
   ]
  },
  {
   "cell_type": "markdown",
   "id": "80ad4c7f-4ee9-40cd-a114-5440715c29a1",
   "metadata": {},
   "source": [
    "En este ejercicio, usted empleará los conocimientos adquiridos en el curso para construir un gráfico análitico comúnmente usado para el análisis comparativo de palabras que representan conceptos. Véase por ejemplo https://tlab.it/en/allegati/help_en_online/msvd.htm"
   ]
  },
  {
   "cell_type": "markdown",
   "id": "a100bc7a-0216-44c2-bffe-e7d31a748fe3",
   "metadata": {},
   "source": [
    "1. Determine las 100 palabras clave más frecuentes. Utilice las funciones de Pandas para manipular el archivo, realizar el conteo a partir de los datos de la columna 'Author Keywords'. Como evidencia de este punto imprima las primeras y las últimas 5 palabras de este grupo de 100 palabras, y su frecuencia."
   ]
  },
  {
   "cell_type": "markdown",
   "id": "cea725f1-c54d-46e0-a73b-8617fee77e70",
   "metadata": {},
   "source": [
    "2. Construya la matriz documento-termino. Las filas son los documentos y las columnas son las 100 palabras clave más frecuentes. La matriz debería estar poblada de unos y ceros. Debe eliminar las filas que corresponden a los documentos que no usan ninguna de las 100 palabras clave más frecuentes. Como evidencia verifique que la suma de las columnas de la matriz documento-término es igual a la frecuencia computada para cada palabra en el punto anterior."
   ]
  },
  {
   "cell_type": "markdown",
   "id": "8429944a-a6fd-43be-baff-36e241c41bb8",
   "metadata": {},
   "source": [
    "3. Construya la matriz de co-ocurrencias. En esta matriz, las filas y las columnas corresponden a las palabras claves. La diagonal es el total de veces que aparece la respectiva palabra. Los demas elementos de la matriz corresponden a las veces que aparece la palabra A con la palabra B en un mismo documento. esta matriz puede calcularse como transpuesta(A) * A, donde A es la matriz docuemnto-término. Como evidencia, grafique un mapa de calor, como por ejemplo, los obtenidos al usar seaborn. "
   ]
  },
  {
   "cell_type": "markdown",
   "id": "30a069a6-6c24-406f-b27c-8410596469fd",
   "metadata": {},
   "source": [
    "4. Para visualizar las relaciones de las palabras clave (cercanía), se puede reducir la dimensionalidad de la matriz de co-occurrencias a dos componentes usando SVD (o MSD), y graficar las palabras clave a partir de las coordenadas obtenidas. Un ejemplo se presenta a continuación (extraido del manual de usuario de T-LAB). El tamaño del texto es proporcional a la frecuencia de las palabras clave. Construya un gráfico similar a partir de la matriz de co-occurrencias que fue obtenida en el punto anterior."
   ]
  },
  {
   "cell_type": "markdown",
   "id": "c4570d9a-a90c-4a43-a197-e720d02a1ddf",
   "metadata": {},
   "source": [
    "![tlab](https://tlab.it/en/allegati/help_en_online/tlab_image/svd05.gif)"
   ]
  }
 ],
 "metadata": {
  "kernelspec": {
   "display_name": "Python 3",
   "language": "python",
   "name": "python3"
  },
  "language_info": {
   "codemirror_mode": {
    "name": "ipython",
    "version": 3
   },
   "file_extension": ".py",
   "mimetype": "text/x-python",
   "name": "python",
   "nbconvert_exporter": "python",
   "pygments_lexer": "ipython3",
   "version": "3.6.9"
  }
 },
 "nbformat": 4,
 "nbformat_minor": 5
}
