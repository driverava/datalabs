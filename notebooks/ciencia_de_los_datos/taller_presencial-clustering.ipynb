{
 "cells": [
  {
   "cell_type": "markdown",
   "id": "a414a801-a81b-4865-a0c9-85016e89949e",
   "metadata": {},
   "source": [
    "Taller Presencial --- Clustering\n",
    "==="
   ]
  },
  {
   "cell_type": "code",
   "execution_count": null,
   "id": "10a0e543-d5ae-4aa8-b5e9-5c109f360402",
   "metadata": {},
   "outputs": [],
   "source": [
    "#\n",
    "# Lea el archivo ubicado en la siguiente dirección web\n",
    "# https://raw.githubusercontent.com/jdvelasq/datalabs/master/datasets/scopus-papers.csv\n",
    "#"
   ]
  },
  {
   "cell_type": "code",
   "execution_count": null,
   "id": "6626f7e0-8f11-416c-b61b-d17cab93382d",
   "metadata": {},
   "outputs": [],
   "source": [
    "#\n",
    "# La columna `Author Keywords`, contiene las palabras clave asignadas por los\n",
    "# autores a cada artículo. Obtenga las 100 palabras claves más frecuentes\n",
    "#"
   ]
  },
  {
   "cell_type": "code",
   "execution_count": null,
   "id": "d674d496-739c-47ee-8f55-db959103408e",
   "metadata": {},
   "outputs": [],
   "source": [
    "#\n",
    "# Construya una matriz donde cada columna es una palabra clave para las 100 \n",
    "# palabras claves más frecuentes y cada fila es un documento. El contenido es\n",
    "# cantidad de veces que aparece cada palabra en el documento (como las palabras\n",
    "# no se repiten este valor es {0, 1})\n",
    "#"
   ]
  },
  {
   "cell_type": "code",
   "execution_count": null,
   "id": "c8635741-855c-470d-a292-8e07988d72d8",
   "metadata": {},
   "outputs": [],
   "source": [
    "#\n",
    "# Compute la matriz de co-ocurrencias como transpuesta(matriz) * matriz. Cada\n",
    "# valor representa la cantidad de veces que aparecen juntas las palabras i y j.\n",
    "#"
   ]
  },
  {
   "cell_type": "code",
   "execution_count": null,
   "id": "dad12a6e-b56a-4976-be0d-1675c169b91c",
   "metadata": {},
   "outputs": [],
   "source": [
    "#\n",
    "# Normalice la matriz usando el coeficiente de Jaccard. \n",
    "# M: es la matriz del punto anterior\n",
    "# D: es la diagonal de la matriz anterior\n",
    "# \n",
    "# El cómputo es el siguiente:\n",
    "#\n",
    "#                    M[i, j]\n",
    "#  m[i, j] = -----------------------\n",
    "#             D[i] + D[j] - m[i, j]\n",
    "#"
   ]
  },
  {
   "cell_type": "code",
   "execution_count": null,
   "id": "509cce92-6609-4c92-8365-79e632ed2c82",
   "metadata": {},
   "outputs": [],
   "source": [
    "#\n",
    "# Compute la matriz de disimilitud de terminos como 1 - m\n",
    "#"
   ]
  },
  {
   "cell_type": "code",
   "execution_count": null,
   "id": "84f33169-4a5c-425a-aac4-6b252b773649",
   "metadata": {},
   "outputs": [],
   "source": [
    "#\n",
    "# Compute la cantidad óptima de grupos existente en la matriz de disimilitud\n",
    "# usando KMeans\n",
    "#"
   ]
  },
  {
   "cell_type": "code",
   "execution_count": null,
   "id": "fb0b975c-e5e2-45bd-942b-cb4f31b78d6e",
   "metadata": {},
   "outputs": [],
   "source": [
    "#\n",
    "# Cuáles son las cinco palabras más frecuentes de cada grupo?\n",
    "#"
   ]
  }
 ],
 "metadata": {
  "kernelspec": {
   "display_name": "Python 3",
   "language": "python",
   "name": "python3"
  },
  "language_info": {
   "codemirror_mode": {
    "name": "ipython",
    "version": 3
   },
   "file_extension": ".py",
   "mimetype": "text/x-python",
   "name": "python",
   "nbconvert_exporter": "python",
   "pygments_lexer": "ipython3",
   "version": "3.6.9"
  }
 },
 "nbformat": 4,
 "nbformat_minor": 5
}
