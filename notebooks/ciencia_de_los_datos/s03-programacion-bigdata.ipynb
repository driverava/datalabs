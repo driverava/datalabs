{
 "cells": [
  {
   "cell_type": "markdown",
   "id": "d97cf6d4-f207-4184-8783-2aeed5c8b89d",
   "metadata": {},
   "source": [
    "Taller Presencial de Programación en Python\n",
    "==="
   ]
  },
  {
   "cell_type": "markdown",
   "id": "506b8e1d-8bd3-4d79-ae3e-579b98cc33e1",
   "metadata": {},
   "source": []
  }
 ],
 "metadata": {
  "kernelspec": {
   "display_name": "Python 3",
   "language": "python",
   "name": "python3"
  },
  "language_info": {
   "codemirror_mode": {
    "name": "ipython",
    "version": 3
   },
   "file_extension": ".py",
   "mimetype": "text/x-python",
   "name": "python",
   "nbconvert_exporter": "python",
   "pygments_lexer": "ipython3",
   "version": "3.6.9"
  }
 },
 "nbformat": 4,
 "nbformat_minor": 5
}
