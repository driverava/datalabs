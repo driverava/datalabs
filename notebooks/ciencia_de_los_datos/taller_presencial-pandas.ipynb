{
 "cells": [
  {
   "cell_type": "markdown",
   "id": "05c277aa-971a-47e2-9917-085efc2dbe30",
   "metadata": {},
   "source": [
    "Taller Presencial --- Manejo de datos con Pandas\n",
    "==="
   ]
  },
  {
   "cell_type": "code",
   "execution_count": null,
   "id": "7577fa91-562b-4240-bf61-725a5cb96dd6",
   "metadata": {},
   "outputs": [],
   "source": [
    "#\n",
    "# El archivo disponible en la dirección presentada a continuación contiene la\n",
    "# información bibliografica de una búsqueda en Scopus\n",
    "#\n",
    "import pandas as pd\n",
    "\n",
    "#\n",
    "# Complete el siguiente código.\n",
    "# https://raw.githubusercontent.com/jdvelasq/datalabs/master/datasets/scopus-papers.csv\n",
    "#\n",
    "scopus = ..."
   ]
  },
  {
   "cell_type": "code",
   "execution_count": null,
   "id": "259198c6-fc5d-4d79-bd72-458d8391df82",
   "metadata": {},
   "outputs": [],
   "source": [
    "#\n",
    "# La columna 'Authors' contiene los nombres de los autores separados por `,`.\n",
    "#\n",
    "# La columna 'Author(s) ID' contiene los identificadores de los autores. Tenga\n",
    "# en cuenta que existen autores homonimos con diferente ID.\n",
    "#\n",
    "# Genere una lista con los 10 autores con más publicaciones.\n",
    "#"
   ]
  },
  {
   "cell_type": "code",
   "execution_count": null,
   "id": "298d06e4-4008-4cbf-aaa9-5d9432fbf99a",
   "metadata": {},
   "outputs": [],
   "source": [
    "#\n",
    "# Genere una lista con los 10 paises con más publicaciones. La columna \n",
    "# 'Affiliations' contiene el país de afiliación de cada autor\n",
    "#"
   ]
  }
 ],
 "metadata": {
  "kernelspec": {
   "display_name": "Python 3",
   "language": "python",
   "name": "python3"
  },
  "language_info": {
   "codemirror_mode": {
    "name": "ipython",
    "version": 3
   },
   "file_extension": ".py",
   "mimetype": "text/x-python",
   "name": "python",
   "nbconvert_exporter": "python",
   "pygments_lexer": "ipython3",
   "version": "3.6.9"
  }
 },
 "nbformat": 4,
 "nbformat_minor": 5
}
