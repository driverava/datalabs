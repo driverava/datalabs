{
 "cells": [
  {
   "cell_type": "markdown",
   "id": "e6944ab6-6ac3-47d6-9c68-05bf011e6923",
   "metadata": {},
   "source": [
    "Taller Presencial --- Ingestión de Datos\n",
    "==="
   ]
  },
  {
   "cell_type": "markdown",
   "id": "ae78852e-6282-4e30-87fc-cfe0233b6d7b",
   "metadata": {},
   "source": [
    "El archivo https://raw.githubusercontent.com/jdvelasq/datalabs/master/datasets/language-score.tsv contiene el puntaje obtenido por cada año para los lenguajes más populares de programación y su área de aplicación."
   ]
  },
  {
   "cell_type": "code",
   "execution_count": null,
   "id": "8dcbf9f0-9037-4e32-9b9a-5360063f3a50",
   "metadata": {},
   "outputs": [],
   "source": [
    "#\n",
    "# Genere un archivo CSV que contenga las siguientes columnas:\n",
    "#\n",
    "# - Lenguaje.\n",
    "# - Año.\n",
    "# - Puntaje.\n",
    "#"
   ]
  },
  {
   "cell_type": "code",
   "execution_count": null,
   "id": "c369c7c8-7c3b-454d-ab3c-5b43c61e1b94",
   "metadata": {},
   "outputs": [],
   "source": [
    "#\n",
    "# Genere un archivo en que las filas correspondan a los años y las columnas\n",
    "# a cada área de uso del lenguaje. El contenido es la matriz es el lenguaje\n",
    "# más popular por año y categoría.\n",
    "#\n"
   ]
  }
 ],
 "metadata": {
  "kernelspec": {
   "display_name": "Python 3",
   "language": "python",
   "name": "python3"
  },
  "language_info": {
   "codemirror_mode": {
    "name": "ipython",
    "version": 3
   },
   "file_extension": ".py",
   "mimetype": "text/x-python",
   "name": "python",
   "nbconvert_exporter": "python",
   "pygments_lexer": "ipython3",
   "version": "3.6.9"
  }
 },
 "nbformat": 4,
 "nbformat_minor": 5
}
