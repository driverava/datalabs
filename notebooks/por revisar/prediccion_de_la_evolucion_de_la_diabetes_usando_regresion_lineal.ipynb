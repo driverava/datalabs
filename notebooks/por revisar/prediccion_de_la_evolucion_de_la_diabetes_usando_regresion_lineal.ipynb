{
 "cells": [
  {
   "cell_type": "markdown",
   "metadata": {},
   "source": [
    "<a href=\"https://colab.research.google.com/github/jdvelasq/datalabs/blob/master/labs/analisis_de_sentimientos_en_amazon_usando_bayes.ipynb\" target=\"_parent\"> <img src=\"https://colab.research.google.com/assets/colab-badge.svg\" alt=\"Open In Colab\"/></a>"
   ]
  },
  {
   "cell_type": "markdown",
   "metadata": {},
   "source": [
    "LAB: Predicción de la evolución de la diabetes en pacientes usando regresión lineal\n",
    "==="
   ]
  },
  {
   "cell_type": "markdown",
   "metadata": {},
   "source": [
    "Los modelos de regresión son ampliamente usados para la construcción de modelos de pronóstico para toma de decisiones. En este caso particular, el médico desearía tener un pronóstico del progreso de la diabetes con un horizonte de doce meses de sus pacientes con base en variables físicas y pruebas de laboratorio, con el fin de realizar mejores tratamientos. Véase https://www4.stat.ncsu.edu/~boos/var.select/diabetes.html"
   ]
  },
  {
   "cell_type": "markdown",
   "metadata": {},
   "source": [
    "En este problema se tiene una base de datos de diez variables base (edad, sexo, índice de masa corporal, presión arterial, y seis variables medidas en sangre) para 442 pacientes, y un índice que mide el progreso de la diabetes un año después de la prueba. Se desea construir un modelo de regresión que permita pronosticar la evolución de la enfermedad con la información disponible."
   ]
  },
  {
   "cell_type": "markdown",
   "metadata": {},
   "source": [
    "El archivo que se encuentra disponible en el link"
   ]
  },
  {
   "cell_type": "markdown",
   "metadata": {},
   "source": [
    "https://raw.githubusercontent.com/jdvelasq/datalabs/master/datasets/diabetes.csv"
   ]
  },
  {
   "cell_type": "code",
   "execution_count": 1,
   "metadata": {},
   "outputs": [
    {
     "data": {
      "text/plain": [
       "442"
      ]
     },
     "execution_count": 1,
     "metadata": {},
     "output_type": "execute_result"
    }
   ],
   "source": [
    "#\n",
    "# Cargue el archivo usando Pandas e imprima la cantidad de\n",
    "# registros\n",
    "#\n",
    "# Rta/\n",
    "# 442\n",
    "#\n"
   ]
  },
  {
   "cell_type": "code",
   "execution_count": 4,
   "metadata": {},
   "outputs": [
    {
     "data": {
      "text/plain": [
       "age    float64\n",
       "sex    float64\n",
       "bmi    float64\n",
       "bp     float64\n",
       "s1     float64\n",
       "s2     float64\n",
       "s3     float64\n",
       "s4     float64\n",
       "s5     float64\n",
       "s6     float64\n",
       "Y      float64\n",
       "dtype: object"
      ]
     },
     "execution_count": 4,
     "metadata": {},
     "output_type": "execute_result"
    }
   ],
   "source": [
    "#\n",
    "# Imprima los nombres y tipos de las columnas\n",
    "# \n",
    "# Rta/\n",
    "#\n",
    "df.dtypes"
   ]
  },
  {
   "cell_type": "code",
   "execution_count": 5,
   "metadata": {},
   "outputs": [
    {
     "data": {
      "text/html": [
       "<div>\n",
       "<style scoped>\n",
       "    .dataframe tbody tr th:only-of-type {\n",
       "        vertical-align: middle;\n",
       "    }\n",
       "\n",
       "    .dataframe tbody tr th {\n",
       "        vertical-align: top;\n",
       "    }\n",
       "\n",
       "    .dataframe thead th {\n",
       "        text-align: right;\n",
       "    }\n",
       "</style>\n",
       "<table border=\"1\" class=\"dataframe\">\n",
       "  <thead>\n",
       "    <tr style=\"text-align: right;\">\n",
       "      <th></th>\n",
       "      <th>age</th>\n",
       "      <th>sex</th>\n",
       "      <th>bmi</th>\n",
       "      <th>bp</th>\n",
       "      <th>s1</th>\n",
       "      <th>s2</th>\n",
       "      <th>s3</th>\n",
       "      <th>s4</th>\n",
       "      <th>s5</th>\n",
       "      <th>s6</th>\n",
       "      <th>Y</th>\n",
       "    </tr>\n",
       "  </thead>\n",
       "  <tbody>\n",
       "    <tr>\n",
       "      <th>count</th>\n",
       "      <td>4.420000e+02</td>\n",
       "      <td>4.420000e+02</td>\n",
       "      <td>4.420000e+02</td>\n",
       "      <td>4.420000e+02</td>\n",
       "      <td>4.420000e+02</td>\n",
       "      <td>4.420000e+02</td>\n",
       "      <td>4.420000e+02</td>\n",
       "      <td>4.420000e+02</td>\n",
       "      <td>4.420000e+02</td>\n",
       "      <td>4.420000e+02</td>\n",
       "      <td>442.000000</td>\n",
       "    </tr>\n",
       "    <tr>\n",
       "      <th>mean</th>\n",
       "      <td>-3.639623e-16</td>\n",
       "      <td>1.269723e-16</td>\n",
       "      <td>-8.016463e-16</td>\n",
       "      <td>1.288562e-16</td>\n",
       "      <td>-8.992304e-17</td>\n",
       "      <td>1.296097e-16</td>\n",
       "      <td>-4.563971e-16</td>\n",
       "      <td>3.875733e-16</td>\n",
       "      <td>-3.845592e-16</td>\n",
       "      <td>-3.398488e-16</td>\n",
       "      <td>152.133484</td>\n",
       "    </tr>\n",
       "    <tr>\n",
       "      <th>std</th>\n",
       "      <td>4.761905e-02</td>\n",
       "      <td>4.761905e-02</td>\n",
       "      <td>4.761905e-02</td>\n",
       "      <td>4.761905e-02</td>\n",
       "      <td>4.761905e-02</td>\n",
       "      <td>4.761905e-02</td>\n",
       "      <td>4.761905e-02</td>\n",
       "      <td>4.761905e-02</td>\n",
       "      <td>4.761905e-02</td>\n",
       "      <td>4.761905e-02</td>\n",
       "      <td>77.093005</td>\n",
       "    </tr>\n",
       "    <tr>\n",
       "      <th>min</th>\n",
       "      <td>-1.072256e-01</td>\n",
       "      <td>-4.464164e-02</td>\n",
       "      <td>-9.027530e-02</td>\n",
       "      <td>-1.123996e-01</td>\n",
       "      <td>-1.267807e-01</td>\n",
       "      <td>-1.156131e-01</td>\n",
       "      <td>-1.023071e-01</td>\n",
       "      <td>-7.639450e-02</td>\n",
       "      <td>-1.260974e-01</td>\n",
       "      <td>-1.377672e-01</td>\n",
       "      <td>25.000000</td>\n",
       "    </tr>\n",
       "    <tr>\n",
       "      <th>25%</th>\n",
       "      <td>-3.729927e-02</td>\n",
       "      <td>-4.464164e-02</td>\n",
       "      <td>-3.422907e-02</td>\n",
       "      <td>-3.665645e-02</td>\n",
       "      <td>-3.424784e-02</td>\n",
       "      <td>-3.035840e-02</td>\n",
       "      <td>-3.511716e-02</td>\n",
       "      <td>-3.949338e-02</td>\n",
       "      <td>-3.324879e-02</td>\n",
       "      <td>-3.317903e-02</td>\n",
       "      <td>87.000000</td>\n",
       "    </tr>\n",
       "    <tr>\n",
       "      <th>50%</th>\n",
       "      <td>5.383060e-03</td>\n",
       "      <td>-4.464164e-02</td>\n",
       "      <td>-7.283766e-03</td>\n",
       "      <td>-5.670611e-03</td>\n",
       "      <td>-4.320866e-03</td>\n",
       "      <td>-3.819065e-03</td>\n",
       "      <td>-6.584468e-03</td>\n",
       "      <td>-2.592262e-03</td>\n",
       "      <td>-1.947634e-03</td>\n",
       "      <td>-1.077698e-03</td>\n",
       "      <td>140.500000</td>\n",
       "    </tr>\n",
       "    <tr>\n",
       "      <th>75%</th>\n",
       "      <td>3.807591e-02</td>\n",
       "      <td>5.068012e-02</td>\n",
       "      <td>3.124802e-02</td>\n",
       "      <td>3.564384e-02</td>\n",
       "      <td>2.835801e-02</td>\n",
       "      <td>2.984439e-02</td>\n",
       "      <td>2.931150e-02</td>\n",
       "      <td>3.430886e-02</td>\n",
       "      <td>3.243323e-02</td>\n",
       "      <td>2.791705e-02</td>\n",
       "      <td>211.500000</td>\n",
       "    </tr>\n",
       "    <tr>\n",
       "      <th>max</th>\n",
       "      <td>1.107267e-01</td>\n",
       "      <td>5.068012e-02</td>\n",
       "      <td>1.705552e-01</td>\n",
       "      <td>1.320442e-01</td>\n",
       "      <td>1.539137e-01</td>\n",
       "      <td>1.987880e-01</td>\n",
       "      <td>1.811791e-01</td>\n",
       "      <td>1.852344e-01</td>\n",
       "      <td>1.335990e-01</td>\n",
       "      <td>1.356118e-01</td>\n",
       "      <td>346.000000</td>\n",
       "    </tr>\n",
       "  </tbody>\n",
       "</table>\n",
       "</div>"
      ],
      "text/plain": [
       "                age           sex           bmi            bp            s1  \\\n",
       "count  4.420000e+02  4.420000e+02  4.420000e+02  4.420000e+02  4.420000e+02   \n",
       "mean  -3.639623e-16  1.269723e-16 -8.016463e-16  1.288562e-16 -8.992304e-17   \n",
       "std    4.761905e-02  4.761905e-02  4.761905e-02  4.761905e-02  4.761905e-02   \n",
       "min   -1.072256e-01 -4.464164e-02 -9.027530e-02 -1.123996e-01 -1.267807e-01   \n",
       "25%   -3.729927e-02 -4.464164e-02 -3.422907e-02 -3.665645e-02 -3.424784e-02   \n",
       "50%    5.383060e-03 -4.464164e-02 -7.283766e-03 -5.670611e-03 -4.320866e-03   \n",
       "75%    3.807591e-02  5.068012e-02  3.124802e-02  3.564384e-02  2.835801e-02   \n",
       "max    1.107267e-01  5.068012e-02  1.705552e-01  1.320442e-01  1.539137e-01   \n",
       "\n",
       "                 s2            s3            s4            s5            s6  \\\n",
       "count  4.420000e+02  4.420000e+02  4.420000e+02  4.420000e+02  4.420000e+02   \n",
       "mean   1.296097e-16 -4.563971e-16  3.875733e-16 -3.845592e-16 -3.398488e-16   \n",
       "std    4.761905e-02  4.761905e-02  4.761905e-02  4.761905e-02  4.761905e-02   \n",
       "min   -1.156131e-01 -1.023071e-01 -7.639450e-02 -1.260974e-01 -1.377672e-01   \n",
       "25%   -3.035840e-02 -3.511716e-02 -3.949338e-02 -3.324879e-02 -3.317903e-02   \n",
       "50%   -3.819065e-03 -6.584468e-03 -2.592262e-03 -1.947634e-03 -1.077698e-03   \n",
       "75%    2.984439e-02  2.931150e-02  3.430886e-02  3.243323e-02  2.791705e-02   \n",
       "max    1.987880e-01  1.811791e-01  1.852344e-01  1.335990e-01  1.356118e-01   \n",
       "\n",
       "                Y  \n",
       "count  442.000000  \n",
       "mean   152.133484  \n",
       "std     77.093005  \n",
       "min     25.000000  \n",
       "25%     87.000000  \n",
       "50%    140.500000  \n",
       "75%    211.500000  \n",
       "max    346.000000  "
      ]
     },
     "execution_count": 5,
     "metadata": {},
     "output_type": "execute_result"
    }
   ],
   "source": [
    "#\n",
    "# Imprima los estadísticos descriptivos básicos del dataframe\n",
    "#\n",
    "df.describe()"
   ]
  },
  {
   "cell_type": "code",
   "execution_count": 3,
   "metadata": {},
   "outputs": [
    {
     "name": "stderr",
     "output_type": "stream",
     "text": [
      "/usr/local/lib/python3.6/dist-packages/statsmodels/tools/_testing.py:19: FutureWarning: pandas.util.testing is deprecated. Use the functions in the public API at pandas.testing instead.\n",
      "  import pandas.util.testing as tm\n"
     ]
    },
    {
     "data": {
      "image/png": "[encoded data removed]",
      "text/plain": [
       "<Figure size 720x432 with 1 Axes>"
      ]
     },
     "metadata": {
      "needs_background": "light"
     },
     "output_type": "display_data"
    }
   ],
   "source": [
    "#\n",
    "# Haga un diagrama de caja y bigotes para visualizar la variación de\n",
    "# cada variable\n",
    "# \n",
    "import matplotlib.pyplot as plt\n",
    "import seaborn as sns\n",
    "\n",
    "plt.figure(figsize=(10, 6))\n",
    "sns.boxplot(data=df)\n",
    "plt.xticks(rotation=90)\n",
    "plt.show()"
   ]
  },
  {
   "cell_type": "code",
   "execution_count": 10,
   "metadata": {},
   "outputs": [
    {
     "data": {
      "text/html": [
       "<div>\n",
       "<style scoped>\n",
       "    .dataframe tbody tr th:only-of-type {\n",
       "        vertical-align: middle;\n",
       "    }\n",
       "\n",
       "    .dataframe tbody tr th {\n",
       "        vertical-align: top;\n",
       "    }\n",
       "\n",
       "    .dataframe thead th {\n",
       "        text-align: right;\n",
       "    }\n",
       "</style>\n",
       "<table border=\"1\" class=\"dataframe\">\n",
       "  <thead>\n",
       "    <tr style=\"text-align: right;\">\n",
       "      <th></th>\n",
       "      <th>age</th>\n",
       "      <th>sex</th>\n",
       "      <th>bmi</th>\n",
       "      <th>bp</th>\n",
       "      <th>s1</th>\n",
       "      <th>s2</th>\n",
       "      <th>s3</th>\n",
       "      <th>s4</th>\n",
       "      <th>s5</th>\n",
       "      <th>s6</th>\n",
       "      <th>Y</th>\n",
       "    </tr>\n",
       "  </thead>\n",
       "  <tbody>\n",
       "    <tr>\n",
       "      <th>age</th>\n",
       "      <td>1.000000</td>\n",
       "      <td>0.180858</td>\n",
       "      <td>0.190507</td>\n",
       "      <td>0.327352</td>\n",
       "      <td>0.284399</td>\n",
       "      <td>0.239566</td>\n",
       "      <td>-0.024279</td>\n",
       "      <td>0.167719</td>\n",
       "      <td>0.249085</td>\n",
       "      <td>0.280366</td>\n",
       "      <td>0.157366</td>\n",
       "    </tr>\n",
       "    <tr>\n",
       "      <th>sex</th>\n",
       "      <td>0.180858</td>\n",
       "      <td>1.000000</td>\n",
       "      <td>0.141694</td>\n",
       "      <td>0.245928</td>\n",
       "      <td>0.046596</td>\n",
       "      <td>0.172645</td>\n",
       "      <td>-0.391606</td>\n",
       "      <td>0.360576</td>\n",
       "      <td>0.136271</td>\n",
       "      <td>0.260489</td>\n",
       "      <td>0.041366</td>\n",
       "    </tr>\n",
       "    <tr>\n",
       "      <th>bmi</th>\n",
       "      <td>0.190507</td>\n",
       "      <td>0.141694</td>\n",
       "      <td>1.000000</td>\n",
       "      <td>0.408966</td>\n",
       "      <td>0.283025</td>\n",
       "      <td>0.310578</td>\n",
       "      <td>-0.372582</td>\n",
       "      <td>0.459990</td>\n",
       "      <td>0.464707</td>\n",
       "      <td>0.386719</td>\n",
       "      <td>0.584725</td>\n",
       "    </tr>\n",
       "    <tr>\n",
       "      <th>bp</th>\n",
       "      <td>0.327352</td>\n",
       "      <td>0.245928</td>\n",
       "      <td>0.408966</td>\n",
       "      <td>1.000000</td>\n",
       "      <td>0.287456</td>\n",
       "      <td>0.227323</td>\n",
       "      <td>-0.160707</td>\n",
       "      <td>0.282228</td>\n",
       "      <td>0.428315</td>\n",
       "      <td>0.396486</td>\n",
       "      <td>0.427870</td>\n",
       "    </tr>\n",
       "    <tr>\n",
       "      <th>s1</th>\n",
       "      <td>0.284399</td>\n",
       "      <td>0.046596</td>\n",
       "      <td>0.283025</td>\n",
       "      <td>0.287456</td>\n",
       "      <td>1.000000</td>\n",
       "      <td>0.898478</td>\n",
       "      <td>0.087308</td>\n",
       "      <td>0.513327</td>\n",
       "      <td>0.483665</td>\n",
       "      <td>0.324762</td>\n",
       "      <td>0.204173</td>\n",
       "    </tr>\n",
       "    <tr>\n",
       "      <th>s2</th>\n",
       "      <td>0.239566</td>\n",
       "      <td>0.172645</td>\n",
       "      <td>0.310578</td>\n",
       "      <td>0.227323</td>\n",
       "      <td>0.898478</td>\n",
       "      <td>1.000000</td>\n",
       "      <td>-0.199617</td>\n",
       "      <td>0.675018</td>\n",
       "      <td>0.318852</td>\n",
       "      <td>0.314789</td>\n",
       "      <td>0.172106</td>\n",
       "    </tr>\n",
       "    <tr>\n",
       "      <th>s3</th>\n",
       "      <td>-0.024279</td>\n",
       "      <td>-0.391606</td>\n",
       "      <td>-0.372582</td>\n",
       "      <td>-0.160707</td>\n",
       "      <td>0.087308</td>\n",
       "      <td>-0.199617</td>\n",
       "      <td>1.000000</td>\n",
       "      <td>-0.739508</td>\n",
       "      <td>-0.382183</td>\n",
       "      <td>-0.298930</td>\n",
       "      <td>-0.375674</td>\n",
       "    </tr>\n",
       "    <tr>\n",
       "      <th>s4</th>\n",
       "      <td>0.167719</td>\n",
       "      <td>0.360576</td>\n",
       "      <td>0.459990</td>\n",
       "      <td>0.282228</td>\n",
       "      <td>0.513327</td>\n",
       "      <td>0.675018</td>\n",
       "      <td>-0.739508</td>\n",
       "      <td>1.000000</td>\n",
       "      <td>0.588311</td>\n",
       "      <td>0.455131</td>\n",
       "      <td>0.425952</td>\n",
       "    </tr>\n",
       "    <tr>\n",
       "      <th>s5</th>\n",
       "      <td>0.249085</td>\n",
       "      <td>0.136271</td>\n",
       "      <td>0.464707</td>\n",
       "      <td>0.428315</td>\n",
       "      <td>0.483665</td>\n",
       "      <td>0.318852</td>\n",
       "      <td>-0.382183</td>\n",
       "      <td>0.588311</td>\n",
       "      <td>1.000000</td>\n",
       "      <td>0.467641</td>\n",
       "      <td>0.580156</td>\n",
       "    </tr>\n",
       "    <tr>\n",
       "      <th>s6</th>\n",
       "      <td>0.280366</td>\n",
       "      <td>0.260489</td>\n",
       "      <td>0.386719</td>\n",
       "      <td>0.396486</td>\n",
       "      <td>0.324762</td>\n",
       "      <td>0.314789</td>\n",
       "      <td>-0.298930</td>\n",
       "      <td>0.455131</td>\n",
       "      <td>0.467641</td>\n",
       "      <td>1.000000</td>\n",
       "      <td>0.389860</td>\n",
       "    </tr>\n",
       "    <tr>\n",
       "      <th>Y</th>\n",
       "      <td>0.157366</td>\n",
       "      <td>0.041366</td>\n",
       "      <td>0.584725</td>\n",
       "      <td>0.427870</td>\n",
       "      <td>0.204173</td>\n",
       "      <td>0.172106</td>\n",
       "      <td>-0.375674</td>\n",
       "      <td>0.425952</td>\n",
       "      <td>0.580156</td>\n",
       "      <td>0.389860</td>\n",
       "      <td>1.000000</td>\n",
       "    </tr>\n",
       "  </tbody>\n",
       "</table>\n",
       "</div>"
      ],
      "text/plain": [
       "          age       sex       bmi        bp        s1        s2        s3  \\\n",
       "age  1.000000  0.180858  0.190507  0.327352  0.284399  0.239566 -0.024279   \n",
       "sex  0.180858  1.000000  0.141694  0.245928  0.046596  0.172645 -0.391606   \n",
       "bmi  0.190507  0.141694  1.000000  0.408966  0.283025  0.310578 -0.372582   \n",
       "bp   0.327352  0.245928  0.408966  1.000000  0.287456  0.227323 -0.160707   \n",
       "s1   0.284399  0.046596  0.283025  0.287456  1.000000  0.898478  0.087308   \n",
       "s2   0.239566  0.172645  0.310578  0.227323  0.898478  1.000000 -0.199617   \n",
       "s3  -0.024279 -0.391606 -0.372582 -0.160707  0.087308 -0.199617  1.000000   \n",
       "s4   0.167719  0.360576  0.459990  0.282228  0.513327  0.675018 -0.739508   \n",
       "s5   0.249085  0.136271  0.464707  0.428315  0.483665  0.318852 -0.382183   \n",
       "s6   0.280366  0.260489  0.386719  0.396486  0.324762  0.314789 -0.298930   \n",
       "Y    0.157366  0.041366  0.584725  0.427870  0.204173  0.172106 -0.375674   \n",
       "\n",
       "           s4        s5        s6         Y  \n",
       "age  0.167719  0.249085  0.280366  0.157366  \n",
       "sex  0.360576  0.136271  0.260489  0.041366  \n",
       "bmi  0.459990  0.464707  0.386719  0.584725  \n",
       "bp   0.282228  0.428315  0.396486  0.427870  \n",
       "s1   0.513327  0.483665  0.324762  0.204173  \n",
       "s2   0.675018  0.318852  0.314789  0.172106  \n",
       "s3  -0.739508 -0.382183 -0.298930 -0.375674  \n",
       "s4   1.000000  0.588311  0.455131  0.425952  \n",
       "s5   0.588311  1.000000  0.467641  0.580156  \n",
       "s6   0.455131  0.467641  1.000000  0.389860  \n",
       "Y    0.425952  0.580156  0.389860  1.000000  "
      ]
     },
     "execution_count": 10,
     "metadata": {},
     "output_type": "execute_result"
    }
   ],
   "source": [
    "#\n",
    "# Use los primeros 300 datos para obtener el mejor modelo\n",
    "# y los 142 datos restantes para evaluar su desempeño por \n",
    "# fuera de la muestra.\n",
    "#\n",
    "# Compute la matriz de correlación entre las variables\n",
    "# para el conjunto de entrenamiento\n",
    "#\n",
    "df_train = df[:300]\n",
    "df_test = df[300:]\n",
    "\n",
    "df_train.corr()"
   ]
  },
  {
   "cell_type": "code",
   "execution_count": null,
   "metadata": {},
   "outputs": [],
   "source": [
    "#\n",
    "# Grafique la matriz de correlaciones como un heatmap para \n",
    "# mejorar la visualización\n",
    "# (Ayuda: use seaborn)\n",
    "#\n"
   ]
  },
  {
   "cell_type": "code",
   "execution_count": 12,
   "metadata": {},
   "outputs": [
    {
     "data": {
      "text/plain": [
       "(array([ -16.57607993, -254.66532396,  560.98630022,  278.91811152,\n",
       "        -393.41357305,   97.05460405,  -19.0023093 ,  169.46450327,\n",
       "         632.95050374,  114.21638941]),\n",
       " 152.34786451820108)"
      ]
     },
     "execution_count": 12,
     "metadata": {},
     "output_type": "execute_result"
    }
   ],
   "source": [
    "#\n",
    "# Establezca un modelo base que use todas la variables con los datos \n",
    "# en bruto (sin ningun tipo de transformación). Imprima los \n",
    "# coeficientes y el intercepto obtenido\n",
    "#\n",
    "from sklearn import linear_model\n",
    "\n",
    "\n",
    "regr = linear_model.LinearRegression()\n",
    "\n",
    "# Obtiene las variables independientes\n",
    "X_train = df_train.copy()\n",
    "X_train.pop('Y')\n",
    "y_train_true = df_train.Y\n",
    "\n",
    "regr.fit(X_train.values, y_train_true)\n",
    "\n",
    "regr.coef_, regr.intercept_"
   ]
  },
  {
   "cell_type": "code",
   "execution_count": 14,
   "metadata": {},
   "outputs": [
    {
     "data": {
      "text/plain": [
       "(2923.0002005013744, 2794.569014500733)"
      ]
     },
     "execution_count": 14,
     "metadata": {},
     "output_type": "execute_result"
    }
   ],
   "source": [
    "#\n",
    "# Compute el pronostico para la muestra de prueba y el error\n",
    "# cuadratico medio para las muestras de entrenamiento y prueba.\n",
    "# Estas son las métricas de error del modelo base.\n",
    "#\n",
    "from sklearn.metrics import mean_squared_error\n",
    "\n",
    "y_train_pred = regr.predict(X_train.values)\n",
    "\n",
    "X_test = df_test.copy()\n",
    "X_test.pop('Y')\n",
    "y_test_true = df_test.Y\n",
    "\n",
    "y_test_pred = regr.predict(X_test.values)\n",
    "\n",
    "mean_squared_error(y_train_true, y_train_pred), mean_squared_error(y_test_true, y_test_pred)"
   ]
  },
  {
   "cell_type": "code",
   "execution_count": null,
   "metadata": {},
   "outputs": [],
   "source": []
  },
  {
   "cell_type": "code",
   "execution_count": null,
   "metadata": {},
   "outputs": [],
   "source": []
  },
  {
   "cell_type": "code",
   "execution_count": null,
   "metadata": {},
   "outputs": [],
   "source": []
  },
  {
   "cell_type": "markdown",
   "metadata": {},
   "source": [
    "Para este problema usted debe construir un modelo de regresión. Tenga en cuenta lo siguiente:\n",
    "\n",
    "* Realice el análisis exploratorio de datos.\n",
    "\n",
    "* Podría ser apropiado aplicar alguna transformación a las variables (tanto la dependiente como las independientes) en el modelo (logaritmo natural, logaritmo base 10, Box-Cox, ...). En el trabajo original se sugiere considerar las variables numéricas al cuadrado.\n",
    "\n",
    "* Deben investigarse las interacciones entre las variables.\n",
    "\n",
    "* No todas las variables podrían ser explicativas.\n"
   ]
  },
  {
   "cell_type": "code",
   "execution_count": null,
   "metadata": {},
   "outputs": [],
   "source": [
    "##\n",
    "## Preparacion\n",
    "##\n",
    "import numpy as np\n",
    "import pandas as pd\n",
    "import seaborn as sns\n",
    "import matplotlib as mpl\n",
    "import matplotlib.pyplot as plt\n",
    "%matplotlib inline"
   ]
  },
  {
   "cell_type": "code",
   "execution_count": null,
   "metadata": {},
   "outputs": [],
   "source": [
    "df = pd.read_csv(\n",
    "    \"https://raw.githubusercontent.com/jdvelasq/datalabs/master/datasets/diabetes.csv\",\n",
    "    sep = ',',           \n",
    "    thousands = None,    \n",
    "    decimal = '.',       \n",
    "    encoding='latin-1') \n",
    "\n",
    "df.info()"
   ]
  },
  {
   "cell_type": "code",
   "execution_count": null,
   "metadata": {},
   "outputs": [],
   "source": [
    "df.columns"
   ]
  },
  {
   "cell_type": "markdown",
   "metadata": {},
   "source": [
    "El archivo que se encuentra disponible en el link"
   ]
  },
  {
   "cell_type": "markdown",
   "metadata": {},
   "source": [
    "https://raw.githubusercontent.com/jdvelasq/datalabs/master/datasets/amazon_cells_labelled.tsv"
   ]
  },
  {
   "cell_type": "markdown",
   "metadata": {},
   "source": [
    "contiene mensajes escritos por los usuarios para productos comprados en Amazon y su valoración (positiva, negativa e indeterminada). En este laboratorio se debe construir un clasificador bayesiano que debe ser entrenado con los mensajes valorados, el cual debe ser posteriormente utilizado para valorar los mensajes con valoración indeterminada."
   ]
  },
  {
   "cell_type": "code",
   "execution_count": null,
   "metadata": {},
   "outputs": [],
   "source": [
    "#\n",
    "# Cargue el archivo usando Pandas e imprima la cantidad de\n",
    "# registros\n",
    "#\n",
    "# Rta/\n",
    "# 14609\n",
    "#\n"
   ]
  },
  {
   "cell_type": "code",
   "execution_count": null,
   "metadata": {},
   "outputs": [],
   "source": [
    "#\n",
    "# Imprima el primer mensaje de texto\n",
    "#\n",
    "# Rta/\n",
    "# 'I try not to adjust the volume setting to avoid that I turn off the call button which is situated just below the volume adjustment knob.'\n",
    "#\n"
   ]
  },
  {
   "cell_type": "code",
   "execution_count": null,
   "metadata": {},
   "outputs": [],
   "source": [
    "#\n",
    "# Imprima la cantidad de mensajes con NaN\n",
    "#\n",
    "# Rta/\n",
    "# 13609\n",
    "#\n"
   ]
  },
  {
   "cell_type": "code",
   "execution_count": null,
   "metadata": {},
   "outputs": [],
   "source": [
    "#\n",
    "# Imprima la cantidad de mensajes con valoración igual a 1.0\n",
    "#\n",
    "# Rta/\n",
    "# 500\n",
    "#\n"
   ]
  },
  {
   "cell_type": "code",
   "execution_count": null,
   "metadata": {},
   "outputs": [],
   "source": [
    "#\n",
    "# Imprima la cantidad de mensajes con valoración igual a 0.0\n",
    "#\n",
    "# Rta/\n",
    "# 500\n",
    "#\n"
   ]
  },
  {
   "cell_type": "code",
   "execution_count": null,
   "metadata": {},
   "outputs": [],
   "source": [
    "#\n",
    "# Genere un nuevo dataset que contenga únicamente los registros\n",
    "# con valoración positiva o negativa e imprima su longitud\n",
    "#\n",
    "# Rta/\n",
    "# 1000\n",
    "#\n"
   ]
  },
  {
   "cell_type": "code",
   "execution_count": null,
   "metadata": {},
   "outputs": [],
   "source": [
    "#\n",
    "# Genere una nueva columna en el nuevo dataset computada como\n",
    "# el resultado de aplicar el stemmer de Porter al mensaje e\n",
    "# imprima el primer mensaje transformado\n",
    "#\n",
    "# Rta/\n",
    "# 'So there is no way for me to plug it in here in the US unless I go by a converter.'\n",
    "#\n"
   ]
  },
  {
   "cell_type": "code",
   "execution_count": null,
   "metadata": {},
   "outputs": [],
   "source": [
    "#\n",
    "# Construya la matriz de terminos del documento considerando\n",
    "# las palabras que tengan una frecuencia entre el 0.1% y el 98%,\n",
    "# y que esten unicamente conformadas por letras.\n",
    "#\n",
    "# Imprima el tamaño del vocabulario.\n",
    "#\n",
    "# Rta/\n",
    "# 1497\n",
    "#\n"
   ]
  },
  {
   "cell_type": "code",
   "execution_count": null,
   "metadata": {},
   "outputs": [],
   "source": [
    "#\n",
    "# Construya un clasificador bayesiano que use los primeros\n",
    "# 500 patrones para entrenamiento y los últimos 500 para\n",
    "# prueba, e imprima el porcentaje de datos para cada clase\n",
    "# para la muestra de entrenamiento-\n",
    "#\n",
    "# Rta/\n",
    "# 1.0    52.2\n",
    "# 0.0    47.8\n",
    "# Name: value, dtype: float64\n",
    "#\n"
   ]
  },
  {
   "cell_type": "code",
   "execution_count": null,
   "metadata": {},
   "outputs": [],
   "source": [
    "#\n",
    "# Imprima el porcentaje de datos para cada clase para la muestra\n",
    "# de prueba\n",
    "#\n",
    "# Rta/\n",
    "# 0.0    52.2\n",
    "# 1.0    47.8\n",
    "# Name: value, dtype: float64\n",
    "#\n"
   ]
  },
  {
   "cell_type": "code",
   "execution_count": null,
   "metadata": {},
   "outputs": [],
   "source": [
    "#\n",
    "# Cree un clasificador de Bayes y entrenelo. Realice el pronostico\n",
    "# para la muestra de entrenamiento y compute la matriz de confusion\n",
    "#\n",
    "# Rta/\n",
    "# array([[214,  25],\n",
    "#        [  1, 260]])\n",
    "#\n"
   ]
  },
  {
   "cell_type": "code",
   "execution_count": null,
   "metadata": {},
   "outputs": [],
   "source": [
    "#\n",
    "# Realice el pronóstico para la muestra de entrenamiento y compute\n",
    "# la matriz de confusión\n",
    "#\n",
    "# Rta/\n",
    "# array([[153, 108],\n",
    "#        [ 29, 210]])\n",
    "#\n"
   ]
  },
  {
   "cell_type": "code",
   "execution_count": null,
   "metadata": {},
   "outputs": [],
   "source": [
    "#\n",
    "# Realice el pronostico para los mensajes con valoración \n",
    "# indeterminada y compute la cantidad de mensajes positivos\n",
    "#\n",
    "# Rta/\n",
    "# 8233\n",
    "#\n"
   ]
  }
 ],
 "metadata": {
  "kernel_info": {
   "name": "python3"
  },
  "kernelspec": {
   "display_name": "Python 3",
   "language": "python",
   "name": "python3"
  },
  "language_info": {
   "codemirror_mode": {
    "name": "ipython",
    "version": 3
   },
   "file_extension": ".py",
   "mimetype": "text/x-python",
   "name": "python",
   "nbconvert_exporter": "python",
   "pygments_lexer": "ipython3",
   "version": "3.6.9"
  },
  "nteract": {
   "version": "0.7.1"
  },
  "varInspector": {
   "cols": {
    "lenName": 16,
    "lenType": 16,
    "lenVar": 40
   },
   "kernels_config": {
    "python": {
     "delete_cmd_postfix": "",
     "delete_cmd_prefix": "del ",
     "library": "var_list.py",
     "varRefreshCmd": "print(var_dic_list())"
    },
    "r": {
     "delete_cmd_postfix": ") ",
     "delete_cmd_prefix": "rm(",
     "library": "var_list.r",
     "varRefreshCmd": "cat(var_dic_list()) "
    }
   },
   "types_to_exclude": [
    "module",
    "function",
    "builtin_function_or_method",
    "instance",
    "_Feature"
   ],
   "window_display": false
  }
 },
 "nbformat": 4,
 "nbformat_minor": 4
}
