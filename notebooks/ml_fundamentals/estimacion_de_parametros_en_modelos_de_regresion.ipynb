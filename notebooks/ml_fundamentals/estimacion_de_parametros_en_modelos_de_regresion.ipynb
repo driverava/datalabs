{
 "cells": [
  {
   "cell_type": "markdown",
   "metadata": {
    "toc-hr-collapsed": false
   },
   "source": [
    "Estimación de parámetros en modelos de regresión\n",
    "==="
   ]
  },
  {
   "cell_type": "code",
   "execution_count": 1,
   "metadata": {},
   "outputs": [],
   "source": [
    "#\n",
    "# Estime los parámetros w0 y w1 de la función\n",
    "#\n",
    "#                             d = exp(w0 + w1 x)\n",
    "#\n",
    "# a partir de la muestra de 16 patrones (x, d), minimizando la suma de errores\n",
    "# al cuadrado (SSE).\n",
    "# \n",
    "# Imprima los parámetros encontrados, redondeados a 4 cifras decimales.\n",
    "# Use como puntos iniciales:\n",
    "#   w0 = 1.0\n",
    "#   w1 = 0.2\n",
    "#   iteraciones: 10.000\n",
    "#   tamaño de paso: 0.000001\n",
    "#\n",
    "# Rta/\n",
    "# 1.0604; w1 = 0.2415; SSE = 82.7324\n",
    "#\n",
    "\n",
    "import math\n",
    "\n",
    "x = [\n",
    "    0.0,\n",
    "    0.625,\n",
    "    1.25,\n",
    "    1.875,\n",
    "    2.5,\n",
    "    3.125,\n",
    "    3.75,\n",
    "    4.375,\n",
    "    5.0,\n",
    "    5.625,\n",
    "    6.25,\n",
    "    6.875,\n",
    "    7.5,\n",
    "    8.125,\n",
    "    8.75,\n",
    "    9.375,\n",
    "    10.0,\n",
    "]\n",
    "\n",
    "d = [\n",
    "    2.71828,\n",
    "    3.07525,\n",
    "    3.08408,\n",
    "    3.28854,\n",
    "    5.42941,\n",
    "    5.65012,\n",
    "    4.87525,\n",
    "    5.60942,\n",
    "    10.64127,\n",
    "    13.19565,\n",
    "    14.85668,\n",
    "    12.4879,\n",
    "    18.34416,\n",
    "    21.2811,\n",
    "    27.77919,\n",
    "    30.81823,\n",
    "    27.11054,\n",
    "] \n",
    "\n",
    "# ---->>> Inserte su codigo aquí ---->>>\n",
    "\n",
    "def SSE(w0, w1):\n",
    "    pass\n",
    "\n",
    "def gSSE(w0, w1):\n",
    "    pass\n",
    "\n",
    "def mejora(w0, w1, mu):\n",
    "    pass\n",
    "\n",
    "w0 = 1.00\n",
    "w1 = 0.20\n",
    "for epoch in range(10000):\n",
    "    w0, w1 = mejora(w0, w1, 0.000001)\n",
    "    \n",
    "# ---->>> Evaluación ---->>>\n",
    "print(\"w0 = {:.4f}; w1 = {:.4f}; SSE = {:.4f}\".format(w0, w1, SSE(w0, w1)))"
   ]
  }
 ],
 "metadata": {
  "interpreter": {
   "hash": "31f2aee4e71d21fbe5cf8b01ff0e069b9275f58929596ceb00d14d90e3e16cd6"
  },
  "kernelspec": {
   "display_name": "Python 3",
   "language": "python",
   "name": "python3"
  },
  "language_info": {
   "codemirror_mode": {
    "name": "ipython",
    "version": 3
   },
   "file_extension": ".py",
   "mimetype": "text/x-python",
   "name": "python",
   "nbconvert_exporter": "python",
   "pygments_lexer": "ipython3",
   "version": "3.6.9"
  }
 },
 "nbformat": 4,
 "nbformat_minor": 4
}
