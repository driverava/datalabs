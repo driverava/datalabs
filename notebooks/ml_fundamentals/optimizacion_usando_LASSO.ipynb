{
 "cells": [
  {
   "cell_type": "markdown",
   "metadata": {
    "toc-hr-collapsed": false
   },
   "source": [
    "Optimización usando LASSO\n",
    "==="
   ]
  },
  {
   "cell_type": "markdown",
   "metadata": {},
   "source": [
    "En esta técnica, el término de penalización es el valor absoluto de los coeficientes del modelo de regresión.\n",
    "\n",
    "$$ \\sum_{i=1}^N (y_i -  g(x_i))^2 + \\alpha \\sum_{p=1}^P ||w_p|| $$\n"
   ]
  },
  {
   "cell_type": "markdown",
   "metadata": {},
   "source": [
    "$\\alpha$ es un hiperparámetro suministrado por el usuario. **Nota:** Para el modelo lineal, la penalización solo aplica para los coeficientes de $x$, no para el intercepto."
   ]
  },
  {
   "cell_type": "code",
   "execution_count": null,
   "metadata": {},
   "outputs": [],
   "source": [
    "#\n",
    "# A continuación se presenta la implementación de un modelo de\n",
    "# regresión lineal que usa la función de penalización LASSO para\n",
    "# estimar los parámetros óptimos. Complete el código presentado\n",
    "# para que pasen las pruebas definidas en las celdas restantes.\n",
    "#\n",
    "import numpy as np\n",
    "import pandas as pd\n",
    "import pytest\n",
    "\n",
    "\n",
    "class LassoRegression:\n",
    "    def __init__(self, intercept, coef, maxiter, mu, alpha):\n",
    "        self.intercept_ = intercept\n",
    "        self.coef_ = np.array(coef)\n",
    "        self._maxiter = maxiter\n",
    "        self._mu = mu\n",
    "        self._alpha = alpha\n",
    "\n",
    "    def compute_loss(self, x, y):\n",
    "        pass\n",
    "\n",
    "    def predict(self, x):\n",
    "        return None\n",
    "\n",
    "    def compute_gradient(self, x, y):\n",
    "        pass\n",
    "\n",
    "    def fit(self, x, y):\n",
    "        for iter in range(self._maxiter):\n",
    "            self.compute_gradient(x, y)\n",
    "            self.improve()\n",
    "\n",
    "    def improve(self):\n",
    "        self.intercept_ = self.intercept_ - self._mu * self._grad_intercept\n",
    "        self.coef_ = self.coef_ - self._mu * self._grad_coef\n",
    "\n",
    "\n",
    "x = [\n",
    "    [0.0, 0.1],\n",
    "    [0.2, 0.3],\n",
    "    [0.4, 0.5],\n",
    "    [0.6, 0.7],\n",
    "    [0.8, 0.9],\n",
    "    [1.0, 1.1],\n",
    "]\n",
    "\n",
    "# y = 1 x1 + 1.1 x2 + 0.2\n",
    "y = [\n",
    "    0.31,\n",
    "    0.73,\n",
    "    1.15,\n",
    "    1.57,\n",
    "    1.99,\n",
    "    2.41,\n",
    "]"
   ]
  },
  {
   "cell_type": "code",
   "execution_count": null,
   "metadata": {},
   "outputs": [],
   "source": [
    "#\n",
    "# Test 1\n",
    "# =============================================================================\n",
    "# Implemente la función de pérdida.\n",
    "#\n",
    "# Rta/\n",
    "# True\n",
    "#\n",
    "\n",
    "# ---->>> Evaluación ---->>>\n",
    "lr = LassoRegression(\n",
    "    intercept=0.1,\n",
    "    coef=[0.2, 0.3],\n",
    "    maxiter=10000,\n",
    "    mu=0.001,\n",
    "    alpha=100,\n",
    ")\n",
    "\n",
    "pytest.approx(lr.compute_loss(x, y), 0.0001) == 57.5544"
   ]
  },
  {
   "cell_type": "code",
   "execution_count": null,
   "metadata": {},
   "outputs": [],
   "source": [
    "#\n",
    "# Test 2\n",
    "# =============================================================================\n",
    "# Implemente la función de pronóstico\n",
    "#\n",
    "# Rta/\n",
    "# True\n",
    "#\n",
    "\n",
    "# ---->>> Evaluación ---->>>\n",
    "lr = LassoRegression(\n",
    "    intercept=0.1,\n",
    "    coef=[0.2, 0.3],\n",
    "    maxiter=10000,\n",
    "    mu=0.001,\n",
    "    alpha=100,\n",
    ")\n",
    "\n",
    "all(\n",
    "    pytest.approx(a) == b\n",
    "    for a, b in zip(lr.predict(x), [0.13, 0.23, 0.33, 0.43, 0.53, 0.63])\n",
    ")"
   ]
  },
  {
   "cell_type": "code",
   "execution_count": null,
   "metadata": {},
   "outputs": [],
   "source": [
    "#\n",
    "# Test 3\n",
    "# =============================================================================\n",
    "# Implemente el gradiente\n",
    "#\n",
    "# Rta/\n",
    "# True\n",
    "# True\n",
    "#\n",
    "\n",
    "# ---->>> Evaluación ---->>>\n",
    "lr = LassoRegression(\n",
    "    intercept=0.1,\n",
    "    coef=[0.2, 0.3],\n",
    "    maxiter=10000,\n",
    "    mu=0.001,\n",
    "    alpha=100,\n",
    ")\n",
    "lr.compute_gradient(x, y)\n",
    "\n",
    "print(lr._grad_intercept == pytest.approx(-11.76))\n",
    "print(all(pytest.approx(a) == b for a, b in zip(lr._grad_coef, [91.88 , 90.704])))"
   ]
  },
  {
   "cell_type": "code",
   "execution_count": null,
   "metadata": {},
   "outputs": [],
   "source": [
    "#\n",
    "# Test 4\n",
    "# =============================================================================\n",
    "# Implemente la función fit\n",
    "#\n",
    "# Rta/\n",
    "# True\n",
    "# True\n",
    "#\n",
    "\n",
    "# ---->>> Evaluación ---->>>\n",
    "lr = LassoRegression(\n",
    "    intercept=0.1,\n",
    "    coef=[0.2, 0.3],\n",
    "    maxiter=1000,\n",
    "    mu=0.001,\n",
    "    alpha=100,\n",
    ")\n",
    "lr.fit(x, y)\n",
    "print(pytest.approx(lr.intercept_, 0.001) == 1.356084)\n",
    "print(all(pytest.approx(a, 0.001) == b for a, b in zip(lr.coef_, [-0.045481 , -0.019872])))"
   ]
  }
 ],
 "metadata": {
  "interpreter": {
   "hash": "31f2aee4e71d21fbe5cf8b01ff0e069b9275f58929596ceb00d14d90e3e16cd6"
  },
  "kernelspec": {
   "display_name": "Python 3",
   "language": "python",
   "name": "python3"
  },
  "language_info": {
   "codemirror_mode": {
    "name": "ipython",
    "version": 3
   },
   "file_extension": ".py",
   "mimetype": "text/x-python",
   "name": "python",
   "nbconvert_exporter": "python",
   "pygments_lexer": "ipython3",
   "version": "3.6.9"
  }
 },
 "nbformat": 4,
 "nbformat_minor": 4
}
