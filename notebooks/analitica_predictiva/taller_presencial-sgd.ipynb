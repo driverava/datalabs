{
 "cells": [
  {
   "cell_type": "code",
   "execution_count": null,
   "id": "e866766f-790b-4bea-876a-fbc50923e800",
   "metadata": {},
   "outputs": [],
   "source": [
    "#\n",
    "# El siguiente código permite descargar el dataset `Geraman credit data`.\n",
    "#\n",
    "import pandas as pd\n",
    "\n",
    "df = pd.read_csv(\n",
    "    \"https://raw.githubusercontent.com/jdvelasq/datalabs/master/datasets/credit.csv\",\n",
    ")\n",
    "\n",
    "df.info()"
   ]
  },
  {
   "cell_type": "code",
   "execution_count": null,
   "id": "4eda3829-edf2-42ef-bc6c-915816d9d19d",
   "metadata": {},
   "outputs": [],
   "source": [
    "#\n",
    "# Escriba un pipeline que cumpla con las siguientes característica en el orden\n",
    "# especificado.\n",
    "#\n",
    "# 1. Realice la transformación del conjunto de datos usando ColumnTransformer.\n",
    "# 2. Transforme los datos usando un kernel chi2squared\n",
    "# 3. Seleccione las características relevantes usando una prueba anova\n",
    "# 4. Estime un modelo sgd.\n",
    "# 5. Debe buscar los parámetros óptimos del sgd con GridSearchCV\n",
    "#"
   ]
  }
 ],
 "metadata": {
  "kernelspec": {
   "display_name": "Python 3",
   "language": "python",
   "name": "python3"
  },
  "language_info": {
   "codemirror_mode": {
    "name": "ipython",
    "version": 3
   },
   "file_extension": ".py",
   "mimetype": "text/x-python",
   "name": "python",
   "nbconvert_exporter": "python",
   "pygments_lexer": "ipython3",
   "version": "3.6.9"
  }
 },
 "nbformat": 4,
 "nbformat_minor": 5
}
