{
 "cells": [
  {
   "cell_type": "code",
   "execution_count": null,
   "id": "10b25738-5452-42b2-a64d-4f8c364675b6",
   "metadata": {},
   "outputs": [],
   "source": [
    "#\n",
    "# El siguiente código permite descargar el dataset `Geraman credit data`.\n",
    "#\n",
    "import pandas as pd\n",
    "\n",
    "df = pd.read_csv(\n",
    "    \"https://raw.githubusercontent.com/jdvelasq/datalabs/master/datasets/credit.csv\",\n",
    ")\n",
    "\n",
    "df.info()"
   ]
  },
  {
   "cell_type": "code",
   "execution_count": null,
   "id": "257f2d3c-c82b-46a3-b904-f03fded35981",
   "metadata": {},
   "outputs": [],
   "source": [
    "#\n",
    "# Escriba un transformador (ColumnTransformer) que genere una matriz numérica\n",
    "# que pueda ser usada para el pronóstico usando alguno de los modelos \n",
    "# disponibles para sklearn.\n",
    "#\n"
   ]
  }
 ],
 "metadata": {
  "kernelspec": {
   "display_name": "Python 3",
   "language": "python",
   "name": "python3"
  },
  "language_info": {
   "codemirror_mode": {
    "name": "ipython",
    "version": 3
   },
   "file_extension": ".py",
   "mimetype": "text/x-python",
   "name": "python",
   "nbconvert_exporter": "python",
   "pygments_lexer": "ipython3",
   "version": "3.6.9"
  }
 },
 "nbformat": 4,
 "nbformat_minor": 5
}
