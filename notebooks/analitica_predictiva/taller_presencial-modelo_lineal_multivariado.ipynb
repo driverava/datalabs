{
 "cells": [
  {
   "cell_type": "markdown",
   "id": "683f91bc-4e6d-44fc-ab4b-4b44f562a1b6",
   "metadata": {},
   "source": [
    "Taller Presencial --- Estimación de parámetros de un modelo multivariado\n",
    "==="
   ]
  },
  {
   "cell_type": "code",
   "execution_count": null,
   "id": "8d65bd8f-ea90-40af-a114-bd9abc2a7e18",
   "metadata": {},
   "outputs": [],
   "source": [
    "#\n",
    "# Cargue los datos del dataset diabetes (disponible en scikit-learn)  a un dataframe de Pandas\n",
    "#\n"
   ]
  },
  {
   "cell_type": "code",
   "execution_count": null,
   "id": "607a515e-2a6d-4013-9b36-80c760b73dc0",
   "metadata": {},
   "outputs": [],
   "source": [
    "#\n",
    "# En este taller debe estimar los parámetros de un modelo de regrsión no lineal\n",
    "# multivariada para este dataset usando aprendizaje batch. Complete la \n",
    "# siguiente función para que compute el error cuadrático medio.\n",
    "#\n",
    "def mean_squared_error(y_true, y_pred):\n",
    "    pass"
   ]
  },
  {
   "cell_type": "code",
   "execution_count": null,
   "id": "21e3815f-e981-499b-b286-bcbb69b0a5c9",
   "metadata": {},
   "outputs": [],
   "source": [
    "#\n",
    "# Complete el siguiente código para que compute el gradiente del intercepto y\n",
    "# de los coeficientes de las variables indpendientes.\n",
    "#\n",
    "def compute_gradient(X, y, intercept_, coef_):\n",
    "    pass"
   ]
  },
  {
   "cell_type": "code",
   "execution_count": null,
   "id": "130501e4-5d8e-4784-beaf-e419dba5515f",
   "metadata": {},
   "outputs": [],
   "source": [
    "#\n",
    "# Complete el siguiente código para que realice una iteración del método del \n",
    "# gradiente descendente y retorne el intercepto y los coeficientes de mejorados\n",
    "#\n",
    "def improve(X, y, intercept_, coef_):\n",
    "    pass"
   ]
  },
  {
   "cell_type": "code",
   "execution_count": null,
   "id": "c77ca14e-1d86-4e73-b8bc-352c18e297ff",
   "metadata": {},
   "outputs": [],
   "source": [
    "#\n",
    "# Escriba el código necesario para estimar los parámetros de un modelo de \n",
    "# regresión lineal aplicado a los datos del dataset diabetes.\n",
    "#\n"
   ]
  }
 ],
 "metadata": {
  "kernelspec": {
   "display_name": "Python 3",
   "language": "python",
   "name": "python3"
  },
  "language_info": {
   "codemirror_mode": {
    "name": "ipython",
    "version": 3
   },
   "file_extension": ".py",
   "mimetype": "text/x-python",
   "name": "python",
   "nbconvert_exporter": "python",
   "pygments_lexer": "ipython3",
   "version": "3.6.9"
  }
 },
 "nbformat": 4,
 "nbformat_minor": 5
}
