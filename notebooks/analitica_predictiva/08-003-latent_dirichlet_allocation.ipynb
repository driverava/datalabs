{
 "cells": [
  {
   "cell_type": "markdown",
   "id": "d2eab6e4-eb9f-43cc-883d-2c2d07b8db4f",
   "metadata": {
    "tags": []
   },
   "source": [
    "Latent Dirichlet Allocation\n",
    "==="
   ]
  },
  {
   "cell_type": "markdown",
   "id": "d51828b9-1927-46ca-99b7-f0457bf1fdcd",
   "metadata": {},
   "source": [
    "Preparación\n",
    "----"
   ]
  },
  {
   "cell_type": "code",
   "execution_count": 2,
   "id": "86a3a063-4324-4f75-af9f-581c698abc5f",
   "metadata": {},
   "outputs": [
    {
     "data": {
      "text/plain": [
       "0    Mobility is one of the fundamental requirement...\n",
       "1    The recent rise of the political extremism in ...\n",
       "2    The power of the press to shape the informatio...\n",
       "3    Identifying influential nodes in a network is ...\n",
       "4    To complement traditional dietary surveys, whi...\n",
       "Name: Abstract, dtype: object"
      ]
     },
     "execution_count": 2,
     "metadata": {},
     "output_type": "execute_result"
    }
   ],
   "source": [
    "import pandas as pd\n",
    "\n",
    "scopus = pd.read_csv(\"https://raw.githubusercontent.com/jdvelasq/datalabs/master/datasets/scopus-abstracts.csv\")\n",
    "scopus['Abstract'].head()"
   ]
  },
  {
   "cell_type": "markdown",
   "id": "e6889572-587b-4c6f-a60e-88baae0d2603",
   "metadata": {},
   "source": [
    "Descripción del problema\n",
    "---"
   ]
  },
  {
   "cell_type": "markdown",
   "id": "11b735e5-e97a-4492-b216-70f3e59da6e5",
   "metadata": {},
   "source": [
    "Uno de los principales problemas abordados en minería de texto consiste en la extracción de los temas o tópicos a los que pertenece documento. Por ejemplo, una noticia podría pertener simultáneamente a los temas de religión y economía (el escándalo por el manejo de fondos del Vaticano). Cuando se tiene un conjunto de documentos, se desea extraer los tópicos subyacentes sobre los que tratan los documentos."
   ]
  },
  {
   "cell_type": "markdown",
   "id": "e283e75d-d9f0-438a-9e32-4122777d5e50",
   "metadata": {},
   "source": [
    "Scikit-learn contiene una implementación de la metodología Latent Dirichlet Allocation, la cual permite extraer los tópicos de un conjunto de documentos. Véase https://scikit-learn.org/stable/modules/generated/sklearn.decomposition.LatentDirichletAllocation.html"
   ]
  },
  {
   "cell_type": "markdown",
   "id": "b577cb58-f6d9-4e98-9310-0a56fb931840",
   "metadata": {},
   "source": [
    "Utilice esta metodología para extraer los tópicos subyacentes en los abstracts de los artículos. Tenga en cuenta que:\n",
    "\n",
    "1. Debe establecer como obtener el número apropiado de tópicos a obtener.\n",
    "\n",
    "2. Debe eliminar las stop-words.\n",
    "\n",
    "3. En T-Lab sugieren reducir las palabras a sustantivos, adjetivos, verbos y adverbios únicamente. Cómo podría realizar esto en su código=?\n",
    "\n",
    "4. Cómo podría verificar si la cantidad de temas es apropiada desde el punto de vista de su contenido (las palabras que contiene y los temas que trata)?\n"
   ]
  }
 ],
 "metadata": {
  "kernelspec": {
   "display_name": "Python 3",
   "language": "python",
   "name": "python3"
  },
  "language_info": {
   "codemirror_mode": {
    "name": "ipython",
    "version": 3
   },
   "file_extension": ".py",
   "mimetype": "text/x-python",
   "name": "python",
   "nbconvert_exporter": "python",
   "pygments_lexer": "ipython3",
   "version": "3.6.9"
  }
 },
 "nbformat": 4,
 "nbformat_minor": 5
}
