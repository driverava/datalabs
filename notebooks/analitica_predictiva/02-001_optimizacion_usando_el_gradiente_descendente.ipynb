{
 "cells": [
  {
   "cell_type": "markdown",
   "metadata": {
    "toc-hr-collapsed": false
   },
   "source": [
    "Optimización usando el gradiente descendente\n",
    "==="
   ]
  },
  {
   "cell_type": "code",
   "execution_count": 2,
   "metadata": {},
   "outputs": [
    {
     "ename": "ModuleNotFoundError",
     "evalue": "No module named 'numpy'",
     "output_type": "error",
     "traceback": [
      "\u001b[1;31m---------------------------------------------------------------------------\u001b[0m",
      "\u001b[1;31mModuleNotFoundError\u001b[0m                       Traceback (most recent call last)",
      "\u001b[1;32m~\\AppData\\Local\\Temp/ipykernel_22472/2206706928.py\u001b[0m in \u001b[0;36m<module>\u001b[1;34m\u001b[0m\n\u001b[0;32m     13\u001b[0m \u001b[1;31m#\u001b[0m\u001b[1;33m\u001b[0m\u001b[1;33m\u001b[0m\u001b[0m\n\u001b[0;32m     14\u001b[0m \u001b[1;33m\u001b[0m\u001b[0m\n\u001b[1;32m---> 15\u001b[1;33m \u001b[1;32mimport\u001b[0m \u001b[0mnumpy\u001b[0m \u001b[1;32mas\u001b[0m \u001b[0mnp\u001b[0m\u001b[1;33m\u001b[0m\u001b[1;33m\u001b[0m\u001b[0m\n\u001b[0m\u001b[0;32m     16\u001b[0m \u001b[1;33m\u001b[0m\u001b[0m\n\u001b[0;32m     17\u001b[0m \u001b[1;32mdef\u001b[0m \u001b[0mf\u001b[0m\u001b[1;33m(\u001b[0m\u001b[0mx\u001b[0m\u001b[1;33m,\u001b[0m \u001b[0my\u001b[0m\u001b[1;33m)\u001b[0m\u001b[1;33m:\u001b[0m\u001b[1;33m\u001b[0m\u001b[1;33m\u001b[0m\u001b[0m\n",
      "\u001b[1;31mModuleNotFoundError\u001b[0m: No module named 'numpy'"
     ]
    }
   ],
   "source": [
    "# A partir del código suministrado, determine la solucion encontrada y el valor\n",
    "# de la función de Rosenbrock para 100, 500, 1000, 2000 y 3000 iteraciones \n",
    "# partiendo siempre del mismo punto de arranque con coordenadas x = -0.5 y\n",
    "# y = 3.5. Use pandas para construir la tabla e imprimirla (use print).\n",
    "#\n",
    "# Rta/\n",
    "#    Iterations         x         y    f(x,y)\n",
    "# 0         100 -1.436412  2.070779  5.941728\n",
    "# 1         500 -1.203561  1.456364  4.861773\n",
    "# 2        1000 -0.807119  0.659530  3.272222\n",
    "# 3        2000  0.499842  0.247335  0.250787\n",
    "# 4        3000  0.761484  0.578762  0.057010\n",
    "#\n",
    "\n",
    "import numpy as np\n",
    "\n",
    "def f(x, y):\n",
    "    return 100 * (x ** 2 - y) ** 2 + (1 - x) ** 2\n",
    "\n",
    "def g(x, y):\n",
    "    gx = 400 * x * (x ** 2 - y) - 2 * (1 - x)\n",
    "    gy = -200 * (x ** 2 - y)\n",
    "    return (gx, gy)\n",
    "\n",
    "def improve(x, y, mu):\n",
    "    gx, gy = g(x, y)\n",
    "    x = x - mu * gx\n",
    "    y = y - mu * gy\n",
    "    return (x, y)\n",
    "\n",
    "\n",
    "# Punto de inicio\n",
    "x = -0.5\n",
    "y = +3.5\n",
    "\n",
    "# Almacena la historia de los puntos recorridos\n",
    "history_x = [x]\n",
    "history_y = [y]\n",
    "history_f = [f(x, y)]\n",
    "\n",
    "# ---->>> Inserte su codigo aquí ---->>>\n",
    "\n",
    "import pandas as pd\n",
    "valores=[100, 500, 1000, 2000,3000]\n",
    "df = pd.DataFrame(columns = ['iterations' , 'x', 'y','f(x,y)'])\n",
    "for i in (valores):\n",
    "  x = -0.5\n",
    "  y = +3.5\n",
    "  for epoch in range(i):\n",
    "    history_x = [x]\n",
    "    history_y = [y]\n",
    "    history_f = [f(x, y)] \n",
    "    x, y = improve(x, y, 0.001)\n",
    "    history_x.append(x)\n",
    "    history_y.append(y)\n",
    "  \n",
    "    history_f.append(f(x, y))\n",
    "  df=df.append({'iterations' : i , 'x' : x, 'y' : y, 'f(x,y)' : f(x,y)} , ignore_index=True)\n",
    "df\n",
    "\n",
    "# ---->>> Evaluación ---->>>\n",
    "for epoch in range(100):\n",
    "    x, y = improve(x, y, 0.001)\n",
    "    history_x.append(x)\n",
    "    history_y.append(y)\n",
    "    history_f.append(f(x, y))"
   ]
  }
 ],
 "metadata": {
  "interpreter": {
   "hash": "31f2aee4e71d21fbe5cf8b01ff0e069b9275f58929596ceb00d14d90e3e16cd6"
  },
  "kernelspec": {
   "display_name": "Python 3",
   "language": "python",
   "name": "python3"
  },
  "language_info": {
   "codemirror_mode": {
    "name": "ipython",
    "version": 3
   },
   "file_extension": ".py",
   "mimetype": "text/x-python",
   "name": "python",
   "nbconvert_exporter": "python",
   "pygments_lexer": "ipython3",
   "version": "3.10.1"
  }
 },
 "nbformat": 4,
 "nbformat_minor": 4
}
