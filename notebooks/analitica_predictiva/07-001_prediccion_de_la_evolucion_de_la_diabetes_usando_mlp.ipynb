{
 "cells": [
  {
   "cell_type": "markdown",
   "metadata": {},
   "source": [
    "Predicción de la evolución de la diabetes en pacientes usando MLP\n",
    "==="
   ]
  },
  {
   "cell_type": "markdown",
   "metadata": {},
   "source": [
    "Se desea construir um modelo de regresión no lineal (redes neuronales artificiales) que permita pronósticar el progreso de la diabetes con un horizonte de doce meses con base en variables físicas y pruebas de laboratorio. Véase https://www4.stat.ncsu.edu/~boos/var.select/diabetes.html"
   ]
  },
  {
   "cell_type": "markdown",
   "metadata": {},
   "source": [
    "En este problema se tiene una base de datos de diez variables base (edad, sexo, índice de masa corporal, presión arterial, y seis variables medidas en sangre) para 442 pacientes, y un índice que mide el progreso de la diabetes un año después de la prueba. La columna Y es la variable explicada."
   ]
  },
  {
   "cell_type": "code",
   "execution_count": null,
   "metadata": {},
   "outputs": [],
   "source": [
    "#\n",
    "# La muestra se encuentra dividida en tres partes:\n",
    "#\n",
    "#   * X_train, y_true_train: es la muestra para estimar los parametros optimos\n",
    "#\n",
    "#   * X_test, y_true_test: es la muestra para seleccionar la mejor configuración\n",
    "#\n",
    "#   * X_val, y_true_val: es la muestra para probar el modelo en productivo\n",
    "#\n",
    "import warnings\n",
    "\n",
    "import pandas as pd\n",
    "import pytest\n",
    "from sklearn.neural_network import MLPRegressor\n",
    "from sklearn.metrics import mean_squared_error\n",
    "\n",
    "warnings.filterwarnings(\"ignore\")\n",
    "\n",
    "df = pd.read_csv(\"https://raw.githubusercontent.com/jdvelasq/datalabs/master/datasets/diabetes.csv\")\n",
    "\n",
    "\n"
   ]
  },
  {
   "cell_type": "code",
   "execution_count": null,
   "metadata": {},
   "outputs": [],
   "source": [
    "#\n",
    "# Use la muestra (X_train, y_true_train) para la estimación\n",
    "# de los pesos óptimos de la red neuronal.\n",
    "#\n",
    "# Seleccione el modelo óptimo como aquel que minimice el error\n",
    "# cuadrático medio para la muestra (X_test, y_true_test).\n",
    "#\n",
    "# Considere únicamente modelos desde una (1) hasta (5) \n",
    "# neuronas en la capa oculta. Considere únicamente las\n",
    "# siguientes semillas para inicializar la red neuronal\n",
    "# 1000, 1001, 1002, 1003, 1004, 1005.\n",
    "#\n",
    "# Compute el error cuadrático medio para la muestra\n",
    "# (X_val, y_true_val). Esta muestra representa la operación\n",
    "# del modelo en productio\n",
    "# \n",
    "# Rta/\n",
    "# True\n",
    "#\n",
    "\n",
    "# >>> Inserte su codigo aquí >>>\n",
    "\n",
    "# <<<\n",
    "\n",
    "# ---->>> Evaluación ---->>>\n",
    "pytest.approx(mse_val, 0.0001) == 0.009535"
   ]
  }
 ],
 "metadata": {
  "kernel_info": {
   "name": "python3"
  },
  "kernelspec": {
   "display_name": "Python 3",
   "language": "python",
   "name": "python3"
  },
  "language_info": {
   "codemirror_mode": {
    "name": "ipython",
    "version": 3
   },
   "file_extension": ".py",
   "mimetype": "text/x-python",
   "name": "python",
   "nbconvert_exporter": "python",
   "pygments_lexer": "ipython3",
   "version": "3.6.9"
  },
  "nteract": {
   "version": "0.7.1"
  },
  "varInspector": {
   "cols": {
    "lenName": 16,
    "lenType": 16,
    "lenVar": 40
   },
   "kernels_config": {
    "python": {
     "delete_cmd_postfix": "",
     "delete_cmd_prefix": "del ",
     "library": "var_list.py",
     "varRefreshCmd": "print(var_dic_list())"
    },
    "r": {
     "delete_cmd_postfix": ") ",
     "delete_cmd_prefix": "rm(",
     "library": "var_list.r",
     "varRefreshCmd": "cat(var_dic_list()) "
    }
   },
   "types_to_exclude": [
    "module",
    "function",
    "builtin_function_or_method",
    "instance",
    "_Feature"
   ],
   "window_display": false
  }
 },
 "nbformat": 4,
 "nbformat_minor": 4
}
