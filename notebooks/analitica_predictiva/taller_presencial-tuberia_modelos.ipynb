{
 "cells": [
  {
   "cell_type": "code",
   "execution_count": null,
   "id": "b9dc6e34-654f-4624-b3b1-babf48bc1dc1",
   "metadata": {},
   "outputs": [],
   "source": [
    "#\n",
    "# El siguiente código permite descargar el dataset `Geraman credit data`.\n",
    "#\n",
    "import pandas as pd\n",
    "\n",
    "df = pd.read_csv(\n",
    "    \"https://raw.githubusercontent.com/jdvelasq/datalabs/master/datasets/credit.csv\",\n",
    ")\n",
    "\n",
    "df.info()"
   ]
  },
  {
   "cell_type": "code",
   "execution_count": null,
   "id": "02cbf188-d5ba-4be5-84c3-b62cb255d2b9",
   "metadata": {},
   "outputs": [],
   "source": [
    "#\n",
    "# Se desean estimar los siguientes modelos para el dataset:\n",
    "#\n",
    "# 1. Regresión logística\n",
    "# 2. SVM\n",
    "# 3. kNN\n",
    "#\n",
    "# Escriba el codigo que permite la selección del mejor modelo. Tenga en cuenta\n",
    "# que debe aplicar todo lo visto hasta ahora: tuberias, transformacion de \n",
    "# datos, búsqueda de hiperparámetros, etc.\n",
    "#\n",
    "# Como puede escribir el código para evitar reprocesamiento?\n",
    "#\n"
   ]
  }
 ],
 "metadata": {
  "kernelspec": {
   "display_name": "Python 3",
   "language": "python",
   "name": "python3"
  },
  "language_info": {
   "codemirror_mode": {
    "name": "ipython",
    "version": 3
   },
   "file_extension": ".py",
   "mimetype": "text/x-python",
   "name": "python",
   "nbconvert_exporter": "python",
   "pygments_lexer": "ipython3",
   "version": "3.6.9"
  }
 },
 "nbformat": 4,
 "nbformat_minor": 5
}
