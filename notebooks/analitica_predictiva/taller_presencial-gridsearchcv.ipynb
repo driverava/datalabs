{
 "cells": [
  {
   "cell_type": "code",
   "execution_count": 1,
   "id": "2f68670c-6d7c-4f15-a085-5fd7cbc62994",
   "metadata": {},
   "outputs": [],
   "source": [
    "#\n",
    "# Encuentre el grado óptimo del polinómio de grado n que mejor aproxime el\n",
    "# siguiente dataset tiendo en cuenta el concepto de generalización.\n",
    "#\n",
    "# Generación de los datos:\n",
    "#\n",
    "import numpy as np\n",
    "\n",
    "\n",
    "def f(x):\n",
    "    return x * np.sin(x)\n",
    "\n",
    "\n",
    "rng = np.random.RandomState(0)\n",
    "x = np.linspace(0, 10, 100)\n",
    "x = np.sort(rng.choice(x, size=25, replace=False))\n",
    "y = f(x)\n",
    "x = x.reshape(-1, 1)"
   ]
  },
  {
   "cell_type": "code",
   "execution_count": null,
   "id": "a36c457a-f912-4fd0-952c-9b3855fe0b8b",
   "metadata": {},
   "outputs": [],
   "source": [
    "#\n",
    "# Escriba el código necesario para estimar el grado óptimo del modelo usando\n",
    "# GridSearchCV. Debe usar leave-1-out y el error cuadrático medio para estimar\n",
    "# los hiperparámetros óptimos.\n",
    "#\n"
   ]
  }
 ],
 "metadata": {
  "kernelspec": {
   "display_name": "Python 3",
   "language": "python",
   "name": "python3"
  },
  "language_info": {
   "codemirror_mode": {
    "name": "ipython",
    "version": 3
   },
   "file_extension": ".py",
   "mimetype": "text/x-python",
   "name": "python",
   "nbconvert_exporter": "python",
   "pygments_lexer": "ipython3",
   "version": "3.6.9"
  }
 },
 "nbformat": 4,
 "nbformat_minor": 5
}
