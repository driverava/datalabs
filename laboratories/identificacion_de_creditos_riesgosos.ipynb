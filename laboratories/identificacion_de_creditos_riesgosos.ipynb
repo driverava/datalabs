{
 "cells": [
  {
   "cell_type": "markdown",
   "metadata": {
    "colab_type": "text",
    "id": "view-in-github"
   },
   "source": [
    "<a href=\"https://colab.research.google.com/github/jdvelasq/datalabs/blob/master/notebooks/credit.ipynb\" target=\"_parent\"><img src=\"https://colab.research.google.com/assets/colab-badge.svg\" alt=\"Open In Colab\"/></a>"
   ]
  },
  {
   "cell_type": "markdown",
   "metadata": {},
   "source": [
    "Identificación de créditos riesgosos.\n",
    "===\n"
   ]
  },
  {
   "cell_type": "markdown",
   "metadata": {},
   "source": [
    "Se tiene una muestra de 1000 observaciones. Cada registro contiene 20 atributos que recopilan información tanto sobre el crédito como sobre la salud financiera del solicitante. La información fue recolectada por una firma alemana y se puede descargar de https://archive.ics.uci.edu/ml/datasets/statlog+(german+credit+data).\n",
    "\n",
    "Construya un modelo de clasificación para determinar si se debe aprobar o no, el crédito a un cliente.\n",
    "\n",
    "Los atributos y sus valores son los siguientes:\n",
    "\n",
    "     Attribute 1:  (qualitative)\n",
    "     \t      Status of existing checking account\n",
    "     \t      A11 :      ... <    0 DM\n",
    "     \t      A12 : 0 <= ... <  200 DM\n",
    "     \t      A13 :      ... >= 200 DM /\n",
    "     \t            salary assignments for at least 1 year\n",
    "     \t      A14 : no checking account\n",
    "\n",
    "     Attribute 2:  (numerical)\n",
    "     \t      Duration in month\n",
    "\n",
    "     Attribute 3:  (qualitative)\n",
    "     \t      Credit history\n",
    "     \t      A30 : no credits taken/\n",
    "     \t            all credits paid back duly\n",
    "     \t      A31 : all credits at this bank paid back duly\n",
    "     \t      A32 : existing credits paid back duly till now\n",
    "     \t      A33 : delay in paying off in the past\n",
    "     \t      A34 : critical account/\n",
    "     \t            other credits existing (not at this bank)\n",
    "\n",
    "     Attribute 4:  (qualitative)\n",
    "     \t      Purpose\n",
    "     \t      A40 : car (new)\n",
    "     \t      A41 : car (used)\n",
    "     \t      A42 : furniture/equipment\n",
    "     \t      A43 : radio/television\n",
    "     \t      A44 : domestic appliances\n",
    "     \t      A45 : repairs\n",
    "     \t      A46 : education\n",
    "     \t      A47 : (vacation - does not exist?)\n",
    "     \t      A48 : retraining\n",
    "     \t      A49 : business\n",
    "     \t      A410 : others\n",
    "\n",
    "     Attribute 5:  (numerical)\n",
    "     \t      Credit amount\n",
    "\n",
    "     Attribute 6:  (qualitative)\n",
    "     \t      Savings account/bonds\n",
    "     \t      A61 :          ... <  100 DM\n",
    "     \t      A62 :   100 <= ... <  500 DM\n",
    "     \t      A63 :   500 <= ... < 1000 DM\n",
    "     \t      A64 :          .. >= 1000 DM\n",
    "     \t      A65 :   unknown/ no savings account\n",
    "\n",
    "     Attribute 7:  (qualitative)\n",
    "     \t      Present employment since\n",
    "     \t      A71 : unemployed\n",
    "     \t      A72 :       ... < 1 year\n",
    "     \t      A73 : 1  <= ... < 4 years  \n",
    "     \t      A74 : 4  <= ... < 7 years\n",
    "     \t      A75 :       .. >= 7 years\n",
    "\n",
    "     Attribute 8:  (numerical)\n",
    "     \t      Installment rate in percentage of disposable income\n",
    "\n",
    "     Attribute 9:  (qualitative)\n",
    "     \t      Personal status and sex\n",
    "     \t      A91 : male   : divorced/separated\n",
    "     \t      A92 : female : divorced/separated/married\n",
    "     \t      A93 : male   : single\n",
    "     \t      A94 : male   : married/widowed\n",
    "     \t      A95 : female : single\n",
    "\n",
    "     Attribute 10: (qualitative)\n",
    "     \t      Other debtors / guarantors\n",
    "     \t      A101 : none\n",
    "     \t      A102 : co-applicant\n",
    "     \t      A103 : guarantor\n",
    "\n",
    "     Attribute 11: (numerical)\n",
    "     \t      Present residence since\n",
    "\n",
    "     Attribute 12: (qualitative)\n",
    "     \t      Property\n",
    "     \t      A121 : real estate\n",
    "     \t      A122 : if not A121 : building society savings agreement/\n",
    "     \t\t\t\t   life insurance\n",
    "     \t      A123 : if not A121/A122 : car or other, not in attribute 6\n",
    "     \t      A124 : unknown / no property\n",
    "\n",
    "     Attribute 13: (numerical)\n",
    "     \t      Age in years\n",
    "\n",
    "     Attribute 14: (qualitative)\n",
    "     \t      Other installment plans \n",
    "     \t      A141 : bank\n",
    "     \t      A142 : stores\n",
    "     \t      A143 : none\n",
    "\n",
    "     Attribute 15: (qualitative)\n",
    "     \t      Housing\n",
    "     \t      A151 : rent\n",
    "     \t      A152 : own\n",
    "     \t      A153 : for free\n",
    "\n",
    "     Attribute 16: (numerical)\n",
    "              Number of existing credits at this bank\n",
    "\n",
    "     Attribute 17: (qualitative)\n",
    "     \t      Job\n",
    "     \t      A171 : unemployed/ unskilled  - non-resident\n",
    "     \t      A172 : unskilled - resident\n",
    "     \t      A173 : skilled employee / official\n",
    "     \t      A174 : management/ self-employed/\n",
    "     \t\t         highly qualified employee/ officer\n",
    "\n",
    "     Attribute 18: (numerical)\n",
    "     \t      Number of people being liable to provide maintenance for\n",
    "\n",
    "     Attribute 19: (qualitative)\n",
    "     \t      Telephone\n",
    "     \t      A191 : none\n",
    "     \t      A192 : yes, registered under the customers name\n",
    "\n",
    "     Attribute 20: (qualitative)\n",
    "     \t      foreign worker\n",
    "     \t      A201 : yes\n",
    "     \t      A202 : no\n"
   ]
  },
  {
   "cell_type": "code",
   "execution_count": null,
   "metadata": {},
   "outputs": [],
   "source": [
    "##\n",
    "## Preparacion\n",
    "##\n",
    "import numpy as np\n",
    "import pandas as pd\n",
    "import seaborn as sns\n",
    "import matplotlib as mpl\n",
    "import matplotlib.pyplot as plt\n",
    "%matplotlib inline"
   ]
  },
  {
   "cell_type": "code",
   "execution_count": null,
   "metadata": {},
   "outputs": [],
   "source": [
    "##\n",
    "## Lee el archivo. \n",
    "##\n",
    "df = pd.read_csv(\n",
    "    \"https://raw.githubusercontent.com/jdvelasq/datalabs/master/datasets/credit.csv\",\n",
    "    sep = ',',           # separador de campos\n",
    "    thousands = None,    # separador de miles para números\n",
    "    decimal = '.',       # separador de los decimales para números\n",
    "    encoding='latin-1')  # idioma\n",
    "\n",
    "##\n",
    "## Verifica la lectura de los datos\n",
    "##\n",
    "df.info()"
   ]
  },
  {
   "cell_type": "code",
   "execution_count": null,
   "metadata": {},
   "outputs": [],
   "source": [
    "df.columns"
   ]
  },
  {
   "cell_type": "code",
   "execution_count": null,
   "metadata": {},
   "outputs": [],
   "source": []
  },
  {
   "cell_type": "markdown",
   "metadata": {},
   "source": [
    "---"
   ]
  }
 ],
 "metadata": {
  "kernel_info": {
   "name": "python3"
  },
  "kernelspec": {
   "display_name": "Python 3",
   "language": "python",
   "name": "python3"
  },
  "language_info": {
   "codemirror_mode": {
    "name": "ipython",
    "version": 3
   },
   "file_extension": ".py",
   "mimetype": "text/x-python",
   "name": "python",
   "nbconvert_exporter": "python",
   "pygments_lexer": "ipython3",
   "version": "3.6.8"
  },
  "nteract": {
   "version": "0.7.1"
  }
 },
 "nbformat": 4,
 "nbformat_minor": 2
}
