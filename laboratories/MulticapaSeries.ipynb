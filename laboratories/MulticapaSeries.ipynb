{
 "cells": [
  {
   "cell_type": "markdown",
   "metadata": {},
   "source": [
    "Pronostico de Series de Tiempo\n",
    "===\n",
    "\n",
    "**Juan David Velásquez Henao**  \n",
    "jdvelasq@unal.edu.co   \n",
    "Universidad Nacional de Colombia, Sede Medellín  \n",
    "Facultad de Minas  \n",
    "Medellín, Colombia\n",
    "\n",
    "---\n",
    "\n",
    "Haga click [aquí](https://github.com/jdvelasq/deep-neural-nets/tree/master/) para acceder al repositorio online.\n",
    "\n",
    "Haga click [aquí](http://nbviewer.jupyter.org/github/jdvelasq/deep-neural-nets/tree/master/) para explorar el repositorio usando `nbviewer`. "
   ]
  },
  {
   "cell_type": "markdown",
   "metadata": {},
   "source": [
    "---"
   ]
  },
  {
   "cell_type": "markdown",
   "metadata": {},
   "source": [
    "# Definición del problema"
   ]
  },
  {
   "cell_type": "markdown",
   "metadata": {},
   "source": [
    "La serie presentada a continuación contiene 252 observaciones mensuales (medidas entre 1946:01 y 1966:12). El objetivo es pronosticar los valores de la serie para el periodo comprendido entre 1967:01 y 1967:12. El objetivo de este taller es construir una red neuronal artificial que permita pronosticar la serie. Usted debe determinar cuales son los rezagos relevantes, la cantidad apropiada de neuronas en la capa oculta y los valores óptimos de los pesos sinápticos. \n",
    "\n",
    "\n",
    "      año    ene    feb    mar    abr    may    jun    jul    ago    sep    oct    nov    dic\n",
    "     -----------------------------------------------------------------------------------------\n",
    "     1946    890    992    979    959   1110   1546   1539   3401   2092   1436   1301   1287\n",
    "     1947   1488   1517   1707   1729   1788   2008   2203   3713   2946   2082   2033   1937\n",
    "     1948   1711   1775   1902   1846   2083   2262   2193   3792   2343   2313   2179   1975\n",
    "     1949   1880   1930   2060   1843   2052   2039   2351   3394   3581   2489   2468   2134\n",
    "     1950   1903   1719   1617   1818   2067   2457   2600   3530   2693   2448   2250   1972\n",
    "     1951   1682   1730   1814   1900   2051   2290   2599   3428   2262   2242   2103   1825\n",
    "     1952   1670   1681   1713   1954   1876   2272   2612   3590   2496   2441   2340   2090\n",
    "     1953   1812   1788   1837   1993   2021   2199   2622   3787   2914   2487   2314   2139\n",
    "     1954   2124   2214   2234   2279   2423   2290   2903   4485   3085   2852   2629   2435\n",
    "     1955   2227   1944   2125   2260   2299   2323   2659   3761   2779   2761   2446   2278\n",
    "     1956   1879   1881   2165   2199   2308   2529   2573   3946   3200   2574   2422   2446\n",
    "     1957   2828   2879   2800   2835   2585   2787   3334   4746   3613   3463   3274   2801\n",
    "     1958   2488   2386   2428   2678   2744   2772   3520   3833   3377   3013   2871   2592\n",
    "     1959   2375   2304   2464   2557   2739   2714   3102   3961   3772   3245   3104   2869\n",
    "     1960   2513   2385   2756   2927   2940   3180   3791   4093   4309   3532   3408   2839\n",
    "     1961   2792   2798   3007   3086   3201   3428   3754   4917   3760   3609   3471   3347\n",
    "     1962   3333   3456   3569   3900   3909   4098   4826   5770   5108   4360   4100   3562\n",
    "     1963   3284   3278   3424   3843   3614   3536   4505   5456   4881   4041   3724   3525\n",
    "     1964   3437   3324   3977   4025   4016   4031   4489   5563   5709   4620   4160   4012\n",
    "     1965   3987   4155   4054   4485   4558   4462   4594   6481   6345   5142   4824   4573\n",
    "     1966   4158   4140   4251   4734   4858   4798   5080   6905   5504   5457   5198   4890\n",
    "     1967   ____   ____   ____   ____   ____   ____   ____   ____   ____   ____   ____   ____\n",
    "\n",
    "\n",
    "![alt](../assets/MulticapaSeries-01.png)"
   ]
  },
  {
   "cell_type": "markdown",
   "metadata": {},
   "source": [
    "Pronostico de Series de Tiempo\n",
    "===\n",
    "\n",
    "**Juan David Velásquez Henao**  \n",
    "jdvelasq@unal.edu.co   \n",
    "Universidad Nacional de Colombia, Sede Medellín  \n",
    "Facultad de Minas  \n",
    "Medellín, Colombia\n",
    "\n",
    "---\n",
    "\n",
    "Haga click [aquí](https://github.com/jdvelasq/deep-neural-nets/tree/master/) para acceder al repositorio online.\n",
    "\n",
    "Haga click [aquí](http://nbviewer.jupyter.org/github/jdvelasq/deep-neural-nets/tree/master/) para explorar el repositorio usando `nbviewer`. "
   ]
  }
 ],
 "metadata": {
  "kernelspec": {
   "display_name": "Python 3",
   "language": "python",
   "name": "python3"
  },
  "language_info": {
   "codemirror_mode": {
    "name": "ipython",
    "version": 3
   },
   "file_extension": ".py",
   "mimetype": "text/x-python",
   "name": "python",
   "nbconvert_exporter": "python",
   "pygments_lexer": "ipython3",
   "version": "3.6.7"
  }
 },
 "nbformat": 4,
 "nbformat_minor": 2
}
