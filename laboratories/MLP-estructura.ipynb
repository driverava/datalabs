{
 "cells": [
  {
   "cell_type": "markdown",
   "metadata": {},
   "source": [
    "Determinación de la Estructura del Modelo\n",
    "==="
   ]
  },
  {
   "cell_type": "markdown",
   "metadata": {},
   "source": [
    "## Definición del problema"
   ]
  },
  {
   "cell_type": "markdown",
   "metadata": {},
   "source": [
    "Este experimento tiene como fin experimentar con diferentes algoritmos para la especificación de modelos de redes neuronales. El objetivo final es determinar si los algoritmos permiten encontrar la mejor especificación posible del modelo.  "
   ]
  },
  {
   "cell_type": "markdown",
   "metadata": {},
   "source": [
    "### Experimento 1\n",
    "\n",
    "En este experimento se desea obtener la cantidad óptima de neuronas en la capa oculta de un perceptrón multicapa que aproxima la función definida como:\n",
    "\n",
    "$$f(x,y) = 100(x^2 - y)^2 + (1 - x)^2$$\n",
    "\n",
    "Para $x \\in [-2.048, 2.048]$ y $y \\in [-1.0, 4.0]$. Para entrenar la red neuronal construya una malla de 20x20 puntos.\n",
    "\n",
    "(a) Grafique la función.\n",
    "\n",
    "(b) Construya un gráfico del error de entrenamiento versus la cantidad de neuronas en la capa oculta.\n",
    "\n",
    "(c) Construya un gráfico del error de validación versus la cantidad de neuronas de la capa oculta. Use una malla de 100x100.\n",
    "\n",
    "(d) Grafique la superficie generada por la red neuronal artificial."
   ]
  },
  {
   "cell_type": "markdown",
   "metadata": {},
   "source": [
    "### Experimento 2\n",
    "\n",
    "Este experimento tiene como fin determinar si es posible eliminar las variables irrelevantes cuando se especifica l red neuronal. Para ello considere la siguiente función vectorial:\n",
    "\n",
    "$$f(\\mathbf{x}) = 0.1e^{4x_1} + 4 \\cdot [1 + e^{-20(x_2-1/2)}]^{-1} + 3x_3 + 2x_4 + x_5 + 0 \\cdot \\sum_{i=6}^{10}x_i $$\n",
    "\n",
    "donde las variables $x_i$ son generadas en el hipercubo unitario.\n",
    "\n",
    "(a) Realice el experimento para muestras de datos de tamaño 50, 100 y 200.\n",
    "\n",
    "(b) Para cada tamaño de muestra realice la selección del modelo 50 veces.\n",
    "\n",
    "(c) Para cada tamño de muestra haga un histograma con la frecuencia obtenida para cada cantidad de neuronas relevantes y las veces en que cada variable fue seleccionada como relevante."
   ]
  },
  {
   "cell_type": "markdown",
   "metadata": {},
   "source": [
    "---"
   ]
  }
 ],
 "metadata": {
  "kernelspec": {
   "display_name": "Python 3",
   "language": "python",
   "name": "python3"
  },
  "language_info": {
   "codemirror_mode": {
    "name": "ipython",
    "version": 3
   },
   "file_extension": ".py",
   "mimetype": "text/x-python",
   "name": "python",
   "nbconvert_exporter": "python",
   "pygments_lexer": "ipython3",
   "version": "3.6.7"
  }
 },
 "nbformat": 4,
 "nbformat_minor": 2
}
