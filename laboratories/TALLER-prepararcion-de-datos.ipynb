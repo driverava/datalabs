{
 "cells": [
  {
   "cell_type": "markdown",
   "metadata": {},
   "source": [
    "# Taller sobre transformación de datos usando Python"
   ]
  },
  {
   "cell_type": "markdown",
   "metadata": {},
   "source": [
    "Genere un archivo con el código presentado a continuación."
   ]
  },
  {
   "cell_type": "code",
   "execution_count": 22,
   "metadata": {},
   "outputs": [
    {
     "name": "stdout",
     "output_type": "stream",
     "text": [
      "Overwriting data.txt\n"
     ]
    }
   ],
   "source": [
    "%%writefile data.txt\n",
    "E\t1\tb,g,f\tjjj:3,bbb:0,ddd:9,ggg:8,hhh:2\n",
    "A\t2\ta,f,c\tccc:2,ddd:0,aaa:3,hhh:9\n",
    "B\t5\tf,e,a,c\tddd:2,ggg:5,ccc:6,jjj:1\n",
    "A\t3\ta,b\thhh:9,iii:5,eee:7,bbb:1\n",
    "C\t6\tf,g,d,a\tiii:6,ddd:5,eee:4,jjj:3\n",
    "A\t7\tc,d\tbbb:2,hhh:0,ccc:4,fff:1,aaa:7\n",
    "A\t9\tg,d,a\taaa:5,fff:8,ddd:2,iii:0,jjj:7,ccc:1\n",
    "B\t1\tb,a\tfff:3,hhh:1,ddd:2\n",
    "E\t2\td,e,a,f\teee:4,ccc:5,iii:9,fff:7,ggg:6,bbb:0\n",
    "B\t3\td,b,g,f\tbbb:7,jjj:9,fff:5,iii:4,ggg:2,eee:3\n",
    "C\t7\td,c,f,b\thhh:6,eee:4,iii:0,fff:2,jjj:1\n",
    "C\t5\td,e,a,c\tbbb:7,iii:6,ggg:9\n",
    "D\t3\tg,e,f,b\tbbb:9,aaa:3,ccc:6,fff:4,eee:2\n",
    "E\t8\tc,f\taaa:8,ddd:5,jjj:1\n",
    "B\t9\td,b\tccc:0,jjj:6,fff:7,ddd:3,aaa:2\n",
    "D\t1\tf,e\tccc:0,eee:6,bbb:9,ddd:3\n",
    "E\t3\te,b,f\tbbb:6,iii:3,hhh:5,fff:4,ggg:9,ddd:2\n",
    "D\t5\tg,a\thhh:4,jjj:5,ccc:9\n",
    "E\t8\te,c,f,a\tccc:1,iii:6,fff:9\n",
    "E\t9\te,a\tbbb:9,aaa:3,fff:1\n",
    "E\t7\te,f\tddd:9,iii:2,aaa:4\n",
    "E\t3\tc,b,g\tccc:5,fff:8,iii:7\n",
    "D\t5\tc,f,a\teee:3,jjj:2,ddd:7\n",
    "A\t1\tf,a,d\tjjj:1,ggg:0,ccc:7,ddd:9,bbb:3\n",
    "E\t4\tc,d\tjjj:6,ccc:0,aaa:1,hhh:9,iii:7,ggg:8\n",
    "E\t6\te,d,c\tfff:3,eee:6,iii:4,bbb:7,ddd:0,ccc:1\n",
    "A\t8\ta,e,f\tfff:0,ddd:5,ccc:4\n",
    "E\t5\tc,a,g\tggg:6,hhh:3,ddd:9,ccc:0,jjj:7\n",
    "A\t6\tf,e\thhh:6,jjj:0,eee:5,iii:7,ccc:3\n",
    "C\t0\tf,c,a,g\teee:1,fff:4,aaa:2,ccc:7,ggg:0,ddd:6\n",
    "A\t1\tb,f\tccc:6,aaa:9,eee:5,ddd:0,bbb:3\n",
    "D\t2\tb,f\tbbb:7,hhh:1,aaa:6,iii:4,fff:9,ddd:5\n",
    "E\t5\ta,c\tfff:3,ccc:1,ggg:2,eee:5\n",
    "B\t4\tb,f,c\tiii:7,ggg:3,ddd:0,jjj:8,hhh:5,ccc:1\n",
    "B\t6\tf,a,e\thhh:6,ccc:3,jjj:0,bbb:8,ddd:7\n",
    "D\t7\ta,f\taaa:0,fff:5,ddd:3\n",
    "B\t8\tc,a\tddd:5,jjj:2,iii:7,ccc:0,bbb:4\n",
    "C\t9\tc,a,e,f\teee:0,fff:2,hhh:6\n",
    "E\t1\te,d\tfff:9,iii:2,eee:0\n",
    "E\t5\tf,a,d\thhh:8,ggg:3,jjj:5"
   ]
  },
  {
   "cell_type": "markdown",
   "metadata": {},
   "source": [
    "Resuelva los siguientes problemas."
   ]
  },
  {
   "cell_type": "markdown",
   "metadata": {},
   "source": [
    "## Problema 1\n",
    "\n",
    "Cuánto es la suma de la segunda columna."
   ]
  },
  {
   "cell_type": "markdown",
   "metadata": {},
   "source": [
    "## Problema 2\n",
    "\n",
    "Genere una lista de tuplas, donde cada tupla contiene en la primera posición, el valor de la segunda columna; la segunda parte de la tupla es una lista con las letras de la primera columna que aparecen asociadas a dicho valor de la segunda columna. Esto es: \n",
    "\n",
    "\n",
    "     ('1', ['E', 'B', 'D', 'A', 'A', 'E']),\n",
    "     ('9', ['A', 'B', 'E', 'C']),\n",
    "     ('8', ['E', 'E', 'A', 'B']),\n",
    "     ('4', ['E', 'B']),\n",
    "     ('0', ['C']),\n",
    "     ('2', ['A', 'E', 'D']),\n",
    "     ('5', ['B', 'C', 'D', 'D', 'E', 'E', 'E']),\n",
    "     ('3', ['A', 'B', 'D', 'E', 'E']),\n",
    "     ('6', ['C', 'E', 'A', 'B']),\n",
    "     ('7', ['A', 'C', 'E', 'D'])]"
   ]
  },
  {
   "cell_type": "markdown",
   "metadata": {},
   "source": [
    "## Problema 3\n",
    "\n",
    "Ordene la lista de tuplas del problema anterior y la lista de letras de la segunda parte de la tupla."
   ]
  },
  {
   "cell_type": "markdown",
   "metadata": {},
   "source": [
    "## Problema 4\n",
    "\n",
    "Calcule la cantidad de registros por clave de la columna 4. En otras palabras, ¿cuántos registros hay que tengan la clave `aaa`? Esto es:\n",
    "\n",
    "    [('jjj', 18),\n",
    "     ('ccc', 23),\n",
    "     ('aaa', 13),\n",
    "     ('iii', 18),\n",
    "     ('eee', 15),\n",
    "     ('bbb', 16),\n",
    "     ('ddd', 23),\n",
    "     ('ggg', 13),\n",
    "     ('hhh', 16),\n",
    "     ('fff', 20)]"
   ]
  },
  {
   "cell_type": "markdown",
   "metadata": {},
   "source": [
    "## Problema 5\n",
    "\n",
    "Genere una tabla que contenga la primera columna, la cantidad de elementos en la columna 3 y la cantidad de elementos en la columna 4. La columna 4 es una lista de claves y valores separados por comas.\n",
    "\n",
    "     [['E', 3, 5], ['A', 3, 4], ['B', 4, 4], ['A', 2, 4], ['C', 4, 4],\n",
    "      ['A', 2, 5], ['A', 3, 6], ['B', 2, 3], ['E', 4, 6], ['B', 4, 6],\n",
    "      ['C', 4, 5], ['C', 4, 3], ['D', 4, 5], ['E', 2, 3], ['B', 2, 5],\n",
    "      ['D', 2, 4], ['E', 3, 6], ['D', 2, 3], ['E', 4, 3], ['E', 2, 3],\n",
    "      ['E', 2, 3], ['E', 3, 3], ['D', 3, 3], ['A', 3, 5], ['E', 2, 6],\n",
    "      ['E', 3, 6], ['A', 3, 3], ['E', 3, 5], ['A', 2, 5], ['C', 4, 6],\n",
    "      ['A', 2, 5], ['D', 2, 6], ['E', 2, 4], ['B', 3, 6], ['B', 3, 5],\n",
    "      ['D', 2, 3], ['B', 2, 5], ['C', 4, 3], ['E', 2, 3], ['E', 3, 3]]"
   ]
  },
  {
   "cell_type": "markdown",
   "metadata": {},
   "source": [
    "## Problema 6\n",
    "\n",
    "Calcule la suma de la segunda columna por cada letra de la primera columna."
   ]
  },
  {
   "cell_type": "markdown",
   "metadata": {},
   "source": [
    "## Problema 7\n",
    "\n",
    "Calcule la suma por cada letra de la columna 3."
   ]
  },
  {
   "cell_type": "markdown",
   "metadata": {},
   "source": [
    "## Problema 8\n",
    "\n",
    "Construya una lista de tupas que tengan el texto de la columna 4 y la suma de los valores asociados, computada sobre todo el conjunto de datos."
   ]
  }
 ],
 "metadata": {
  "kernelspec": {
   "display_name": "Python 3",
   "language": "python",
   "name": "python3"
  },
  "language_info": {
   "codemirror_mode": {
    "name": "ipython",
    "version": 3
   },
   "file_extension": ".py",
   "mimetype": "text/x-python",
   "name": "python",
   "nbconvert_exporter": "python",
   "pygments_lexer": "ipython3",
   "version": "3.6.7"
  }
 },
 "nbformat": 4,
 "nbformat_minor": 2
}
