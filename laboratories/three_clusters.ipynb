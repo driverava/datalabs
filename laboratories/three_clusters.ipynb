{
 "cells": [
  {
   "cell_type": "markdown",
   "metadata": {},
   "source": [
    "<a href=\"https://colab.research.google.com/github/jdvelasq/datalabs/blob/master/notebooks/three_clusters.ipynb\" target=\"_parent\"><img src=\"https://colab.research.google.com/assets/colab-badge.svg\" alt=\"Open In Colab\"/></a>"
   ]
  },
  {
   "cell_type": "markdown",
   "metadata": {},
   "source": [
    "# Clasificación del conjunto artificial de datos de tres clusters"
   ]
  },
  {
   "cell_type": "markdown",
   "metadata": {},
   "source": [
    "* *30 min* | Última modificación: Julio 2, 2019."
   ]
  },
  {
   "cell_type": "markdown",
   "metadata": {},
   "source": [
    "El siguiente es un conjunto artificial de datos que tiene una frontera de decisión compleja. "
   ]
  },
  {
   "cell_type": "code",
   "execution_count": 1,
   "metadata": {},
   "outputs": [],
   "source": [
    "import pandas as pd\n",
    "import numpy as np\n",
    "import matplotlib.pyplot as plt\n",
    "%matplotlib inline"
   ]
  },
  {
   "cell_type": "code",
   "execution_count": 2,
   "metadata": {},
   "outputs": [],
   "source": [
    "##\n",
    "## Generación de los datos\n",
    "##\n",
    "from sklearn.datasets import make_blobs\n",
    "\n",
    "NPOINTS = 150\n",
    "\n",
    "X, y = make_blobs(\n",
    "    n_samples=NPOINTS, \n",
    "    n_features=2,\n",
    "    centers=3,\n",
    "    cluster_std=0.8, \n",
    "    shuffle=False,  \n",
    "    random_state=122)"
   ]
  },
  {
   "cell_type": "code",
   "execution_count": 3,
   "metadata": {},
   "outputs": [
    {
     "data": {
      "image/png": "[encoded data removed]",
      "text/plain": [
       "<Figure size 432x288 with 1 Axes>"
      ]
     },
     "metadata": {
      "needs_background": "light"
     },
     "output_type": "display_data"
    }
   ],
   "source": [
    "##\n",
    "## Graficación\n",
    "##\n",
    "plt.scatter(X[:50,0], X[:50,1], color='red')\n",
    "plt.scatter(X[50:100,0], X[50:100,1], color='blue')\n",
    "plt.scatter(X[100:,0], X[100:,1], color='green')\n",
    "plt.gca().set_aspect('equal', adjustable='box')"
   ]
  },
  {
   "cell_type": "markdown",
   "metadata": {},
   "source": [
    "En este taller se deben realizar dos actividades:\n",
    "\n",
    "* Construrya un clasificador.\n",
    "\n",
    "* Grafique la frontera de decisión (asignando color a las probabilidades donde sea posible). Ayuda: https://scikit-learn.org/stable/auto_examples/neighbors/plot_classification.html#sphx-glr-auto-examples-neighbors-plot-classification-py"
   ]
  }
 ],
 "metadata": {
  "kernelspec": {
   "display_name": "Python 3",
   "language": "python",
   "name": "python3"
  },
  "language_info": {
   "codemirror_mode": {
    "name": "ipython",
    "version": 3
   },
   "file_extension": ".py",
   "mimetype": "text/x-python",
   "name": "python",
   "nbconvert_exporter": "python",
   "pygments_lexer": "ipython3",
   "version": "3.6.8"
  }
 },
 "nbformat": 4,
 "nbformat_minor": 2
}
