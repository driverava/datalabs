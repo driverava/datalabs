{
 "cells": [
  {
   "cell_type": "markdown",
   "metadata": {},
   "source": [
    "Análisis exploratorio de datos\n",
    "===\n",
    "\n",
    "* *60 min*"
   ]
  },
  {
   "cell_type": "markdown",
   "metadata": {},
   "source": [
    "El análisis exploratorio se usa para describir propiedades de los datos:\n",
    "\n",
    "* Localización de los datos.\n",
    "* Dispersión de los datos.\n",
    "* Distribución de los datos.\n",
    "* Relaciones entre los datos.\n",
    "\n",
    "Pero en términos de la analítica y la inteligencia de negocios, también se usa para responder preguntas sobre los datos, cuyas respuestas dan insights."
   ]
  },
  {
   "cell_type": "markdown",
   "metadata": {},
   "source": [
    "Realice los ejercicios propuestos con el siguiente [archivo](files/indicadores-mundiales.csv)."
   ]
  },
  {
   "cell_type": "markdown",
   "metadata": {},
   "source": [
    "**Carga de los datos**."
   ]
  },
  {
   "cell_type": "code",
   "execution_count": 1,
   "metadata": {},
   "outputs": [
    {
     "data": {
      "text/html": [
       "<div>\n",
       "<style scoped>\n",
       "    .dataframe tbody tr th:only-of-type {\n",
       "        vertical-align: middle;\n",
       "    }\n",
       "\n",
       "    .dataframe tbody tr th {\n",
       "        vertical-align: top;\n",
       "    }\n",
       "\n",
       "    .dataframe thead th {\n",
       "        text-align: right;\n",
       "    }\n",
       "</style>\n",
       "<table border=\"1\" class=\"dataframe\">\n",
       "  <thead>\n",
       "    <tr style=\"text-align: right;\">\n",
       "      <th></th>\n",
       "      <th>Ano</th>\n",
       "      <th>Dias para iniciar un negocio</th>\n",
       "      <th>Emisiones de CO2</th>\n",
       "      <th>Esperanza de vida (mujeres)</th>\n",
       "      <th>Esperanza de vida (varones)</th>\n",
       "      <th>Facilidad para hacer negocios</th>\n",
       "      <th>Gasto en salud ( del PIB)</th>\n",
       "      <th>Gasto en salud (per capita)</th>\n",
       "      <th>Horas preparar los impuestos</th>\n",
       "      <th>Interes de prestamos</th>\n",
       "      <th>...</th>\n",
       "      <th>Poblacion urbana</th>\n",
       "      <th>Region</th>\n",
       "      <th>Tasa de mortalidad infantil</th>\n",
       "      <th>Tasa de natalidad</th>\n",
       "      <th>Tasa tributaria empresarial</th>\n",
       "      <th>Turismo emisor</th>\n",
       "      <th>Turismo receptivo</th>\n",
       "      <th>Uso de Internet</th>\n",
       "      <th>Uso de energia</th>\n",
       "      <th>Uso de telefonos celulares</th>\n",
       "    </tr>\n",
       "  </thead>\n",
       "  <tbody>\n",
       "    <tr>\n",
       "      <th>0</th>\n",
       "      <td>2000-12-01</td>\n",
       "      <td>NaN</td>\n",
       "      <td>87931.0</td>\n",
       "      <td>71.0</td>\n",
       "      <td>67.0</td>\n",
       "      <td>NaN</td>\n",
       "      <td>3.5</td>\n",
       "      <td>60.0</td>\n",
       "      <td>NaN</td>\n",
       "      <td>10.0</td>\n",
       "      <td>...</td>\n",
       "      <td>59.9</td>\n",
       "      <td>africa</td>\n",
       "      <td>3.4</td>\n",
       "      <td>2.0</td>\n",
       "      <td>NaN</td>\n",
       "      <td>193000000.0</td>\n",
       "      <td>102000000.0</td>\n",
       "      <td>0.0</td>\n",
       "      <td>26998.0</td>\n",
       "      <td>0.0</td>\n",
       "    </tr>\n",
       "    <tr>\n",
       "      <th>1</th>\n",
       "      <td>2000-12-01</td>\n",
       "      <td>NaN</td>\n",
       "      <td>9542.0</td>\n",
       "      <td>47.0</td>\n",
       "      <td>44.0</td>\n",
       "      <td>NaN</td>\n",
       "      <td>3.4</td>\n",
       "      <td>22.0</td>\n",
       "      <td>NaN</td>\n",
       "      <td>103.2</td>\n",
       "      <td>...</td>\n",
       "      <td>32.4</td>\n",
       "      <td>africa</td>\n",
       "      <td>12.8</td>\n",
       "      <td>5.0</td>\n",
       "      <td>NaN</td>\n",
       "      <td>146000000.0</td>\n",
       "      <td>34000000.0</td>\n",
       "      <td>0.0</td>\n",
       "      <td>7499.0</td>\n",
       "      <td>0.0</td>\n",
       "    </tr>\n",
       "    <tr>\n",
       "      <th>2</th>\n",
       "      <td>2000-12-01</td>\n",
       "      <td>NaN</td>\n",
       "      <td>1617.0</td>\n",
       "      <td>57.0</td>\n",
       "      <td>53.0</td>\n",
       "      <td>NaN</td>\n",
       "      <td>4.3</td>\n",
       "      <td>15.0</td>\n",
       "      <td>NaN</td>\n",
       "      <td>NaN</td>\n",
       "      <td>...</td>\n",
       "      <td>38.3</td>\n",
       "      <td>africa</td>\n",
       "      <td>9.0</td>\n",
       "      <td>4.3</td>\n",
       "      <td>NaN</td>\n",
       "      <td>50000000.0</td>\n",
       "      <td>77000000.0</td>\n",
       "      <td>0.0</td>\n",
       "      <td>1983.0</td>\n",
       "      <td>0.0</td>\n",
       "    </tr>\n",
       "    <tr>\n",
       "      <th>3</th>\n",
       "      <td>2000-12-01</td>\n",
       "      <td>NaN</td>\n",
       "      <td>4276.0</td>\n",
       "      <td>52.0</td>\n",
       "      <td>49.0</td>\n",
       "      <td>NaN</td>\n",
       "      <td>4.7</td>\n",
       "      <td>152.0</td>\n",
       "      <td>NaN</td>\n",
       "      <td>15.5</td>\n",
       "      <td>...</td>\n",
       "      <td>53.2</td>\n",
       "      <td>africa</td>\n",
       "      <td>5.4</td>\n",
       "      <td>2.7</td>\n",
       "      <td>NaN</td>\n",
       "      <td>209000000.0</td>\n",
       "      <td>227000000.0</td>\n",
       "      <td>0.0</td>\n",
       "      <td>1836.0</td>\n",
       "      <td>0.1</td>\n",
       "    </tr>\n",
       "    <tr>\n",
       "      <th>4</th>\n",
       "      <td>2000-12-01</td>\n",
       "      <td>NaN</td>\n",
       "      <td>1041.0</td>\n",
       "      <td>52.0</td>\n",
       "      <td>49.0</td>\n",
       "      <td>NaN</td>\n",
       "      <td>5.1</td>\n",
       "      <td>12.0</td>\n",
       "      <td>NaN</td>\n",
       "      <td>NaN</td>\n",
       "      <td>...</td>\n",
       "      <td>17.8</td>\n",
       "      <td>africa</td>\n",
       "      <td>9.6</td>\n",
       "      <td>4.6</td>\n",
       "      <td>NaN</td>\n",
       "      <td>30000000.0</td>\n",
       "      <td>23000000.0</td>\n",
       "      <td>0.0</td>\n",
       "      <td>NaN</td>\n",
       "      <td>0.0</td>\n",
       "    </tr>\n",
       "  </tbody>\n",
       "</table>\n",
       "<p>5 rows × 26 columns</p>\n",
       "</div>"
      ],
      "text/plain": [
       "          Ano  Dias para iniciar un negocio  Emisiones de CO2  \\\n",
       "0  2000-12-01                           NaN           87931.0   \n",
       "1  2000-12-01                           NaN            9542.0   \n",
       "2  2000-12-01                           NaN            1617.0   \n",
       "3  2000-12-01                           NaN            4276.0   \n",
       "4  2000-12-01                           NaN            1041.0   \n",
       "\n",
       "   Esperanza de vida (mujeres)  Esperanza de vida (varones)  \\\n",
       "0                         71.0                         67.0   \n",
       "1                         47.0                         44.0   \n",
       "2                         57.0                         53.0   \n",
       "3                         52.0                         49.0   \n",
       "4                         52.0                         49.0   \n",
       "\n",
       "   Facilidad para hacer negocios  Gasto en salud ( del PIB)  \\\n",
       "0                            NaN                        3.5   \n",
       "1                            NaN                        3.4   \n",
       "2                            NaN                        4.3   \n",
       "3                            NaN                        4.7   \n",
       "4                            NaN                        5.1   \n",
       "\n",
       "   Gasto en salud (per capita)  Horas preparar los impuestos  \\\n",
       "0                         60.0                           NaN   \n",
       "1                         22.0                           NaN   \n",
       "2                         15.0                           NaN   \n",
       "3                        152.0                           NaN   \n",
       "4                         12.0                           NaN   \n",
       "\n",
       "   Interes de prestamos             ...              Poblacion urbana  Region  \\\n",
       "0                  10.0             ...                          59.9  africa   \n",
       "1                 103.2             ...                          32.4  africa   \n",
       "2                   NaN             ...                          38.3  africa   \n",
       "3                  15.5             ...                          53.2  africa   \n",
       "4                   NaN             ...                          17.8  africa   \n",
       "\n",
       "   Tasa de mortalidad infantil  Tasa de natalidad  \\\n",
       "0                          3.4                2.0   \n",
       "1                         12.8                5.0   \n",
       "2                          9.0                4.3   \n",
       "3                          5.4                2.7   \n",
       "4                          9.6                4.6   \n",
       "\n",
       "   Tasa tributaria empresarial  Turismo emisor  Turismo receptivo  \\\n",
       "0                          NaN     193000000.0        102000000.0   \n",
       "1                          NaN     146000000.0         34000000.0   \n",
       "2                          NaN      50000000.0         77000000.0   \n",
       "3                          NaN     209000000.0        227000000.0   \n",
       "4                          NaN      30000000.0         23000000.0   \n",
       "\n",
       "  Uso de Internet  Uso de energia  Uso de telefonos celulares  \n",
       "0             0.0         26998.0                         0.0  \n",
       "1             0.0          7499.0                         0.0  \n",
       "2             0.0          1983.0                         0.0  \n",
       "3             0.0          1836.0                         0.1  \n",
       "4             0.0             NaN                         0.0  \n",
       "\n",
       "[5 rows x 26 columns]"
      ]
     },
     "execution_count": 1,
     "metadata": {},
     "output_type": "execute_result"
    }
   ],
   "source": [
    "import pandas as pd\n",
    "df = pd.read_csv('files/indicadores-mundiales.csv', encoding='latin-1')\n",
    "df.head()"
   ]
  },
  {
   "cell_type": "markdown",
   "metadata": {},
   "source": [
    "**Ejercicio.--** Construya una tabla de las emisiones de CO2 por continente."
   ]
  },
  {
   "cell_type": "markdown",
   "metadata": {},
   "source": [
    "**Ejercicio.--** Cuántos registros hay con datos faltantes?"
   ]
  },
  {
   "cell_type": "markdown",
   "metadata": {},
   "source": [
    "**Ejercicio.--** Cuáles son los países con menores gastos de salud por región?."
   ]
  },
  {
   "cell_type": "markdown",
   "metadata": {},
   "source": [
    "**Ejercicio.--** Cuál es el país con menor esperanza de vida para las mujeres?"
   ]
  },
  {
   "cell_type": "markdown",
   "metadata": {},
   "source": [
    "**Ejercicio.--** Cuáles son los 10 países con la menor cantidad de población entre 0 y 14 y a cuál región pertenecen?"
   ]
  },
  {
   "cell_type": "markdown",
   "metadata": {},
   "source": [
    "**Ejercicio.--** Haga un diagrama de barras de las emisiones de CO2 por continente (en los siguientes tutoriales son sobre graficación)."
   ]
  },
  {
   "cell_type": "markdown",
   "metadata": {},
   "source": [
    "**Ejercicio.--** Haga un boxplot de las emisiones de CO2 por continente."
   ]
  }
 ],
 "metadata": {
  "kernel_info": {
   "name": "python3"
  },
  "kernelspec": {
   "display_name": "Python 3",
   "language": "python",
   "name": "python3"
  },
  "language_info": {
   "codemirror_mode": {
    "name": "ipython",
    "version": 3
   },
   "file_extension": ".py",
   "mimetype": "text/x-python",
   "name": "python",
   "nbconvert_exporter": "python",
   "pygments_lexer": "ipython3",
   "version": "3.6.7"
  },
  "nteract": {
   "version": "0.12.3"
  }
 },
 "nbformat": 4,
 "nbformat_minor": 2
}
