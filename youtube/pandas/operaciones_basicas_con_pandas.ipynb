{
  "nbformat": 4,
  "nbformat_minor": 0,
  "metadata": {
    "colab": {
      "name": "operaciones_basicas_con_pandas.ipynb",
      "provenance": [],
      "authorship_tag": "ABX9TyOmTKfpr5onROJWSM6j4H2B",
      "include_colab_link": true
    },
    "kernelspec": {
      "name": "python3",
      "display_name": "Python 3"
    },
    "language_info": {
      "name": "python"
    }
  },
  "cells": [
    {
      "cell_type": "markdown",
      "metadata": {
        "id": "view-in-github",
        "colab_type": "text"
      },
      "source": [
        "<a href=\"https://colab.research.google.com/github/jdvelasq/YouTube/blob/main/pandas/operaciones_basicas_con_pandas.ipynb\" target=\"_parent\"><img src=\"https://colab.research.google.com/assets/colab-badge.svg\" alt=\"Open In Colab\"/></a>"
      ]
    },
    {
      "cell_type": "code",
      "metadata": {
        "id": "ZOhtneTYOCP7"
      },
      "source": [
        "import pandas as pd"
      ],
      "execution_count": 1,
      "outputs": []
    },
    {
      "cell_type": "code",
      "metadata": {
        "id": "eHscVbaVO6dL"
      },
      "source": [
        "#\n",
        "# Carga de datos\n",
        "# https://raw.githubusercontent.com/jdvelasq/datalabs/master/datasets/drivers/truck_event_text_partition.csv\n",
        "#\n"
      ],
      "execution_count": 2,
      "outputs": []
    },
    {
      "cell_type": "code",
      "metadata": {
        "id": "cScuUqWcPdVB"
      },
      "source": [
        "#\n",
        "# Numero de registros\n",
        "#"
      ],
      "execution_count": null,
      "outputs": []
    },
    {
      "cell_type": "code",
      "metadata": {
        "id": "rASPP6pPPjVG"
      },
      "source": [
        "#\n",
        "# Nombres de las columnas\n",
        "#"
      ],
      "execution_count": null,
      "outputs": []
    },
    {
      "cell_type": "code",
      "metadata": {
        "id": "qWcQuVIHPl3F"
      },
      "source": [
        "#\n",
        "# Estadísticos de los campos\n",
        "# "
      ],
      "execution_count": null,
      "outputs": []
    },
    {
      "cell_type": "code",
      "metadata": {
        "id": "2ZSl_J-nPtGT"
      },
      "source": [
        "#\n",
        "# Visualización de los primeros registros del dataset\n",
        "# "
      ],
      "execution_count": null,
      "outputs": []
    },
    {
      "cell_type": "code",
      "metadata": {
        "id": "tpoHO9OoP1Af"
      },
      "source": [
        "#\n",
        "# Visualización de los ultimos registros del dataset\n",
        "# "
      ],
      "execution_count": null,
      "outputs": []
    },
    {
      "cell_type": "code",
      "metadata": {
        "id": "_KX1pgLHP-Mm"
      },
      "source": [
        "#\n",
        "# Obtención de un subconjunto de columnas\n",
        "#"
      ],
      "execution_count": null,
      "outputs": []
    },
    {
      "cell_type": "code",
      "metadata": {
        "id": "vIWi556EQJfN"
      },
      "source": [
        "#\n",
        "# Obtención de un subconjunto de filas y columnas\n",
        "#"
      ],
      "execution_count": null,
      "outputs": []
    },
    {
      "cell_type": "code",
      "metadata": {
        "id": "Ue_ACag0QPAk"
      },
      "source": [
        "#\n",
        "# Obtención de un un registro en particular\n",
        "#"
      ],
      "execution_count": null,
      "outputs": []
    },
    {
      "cell_type": "code",
      "metadata": {
        "id": "I8Y5SzvrQdF_"
      },
      "source": [
        "#\n",
        "# Obtención de una columna en particular\n",
        "#"
      ],
      "execution_count": null,
      "outputs": []
    },
    {
      "cell_type": "code",
      "metadata": {
        "id": "Rbq6sfDeQiFi"
      },
      "source": [
        "#\n",
        "# Escritura de una tabla al disco\n",
        "#"
      ],
      "execution_count": null,
      "outputs": []
    },
    {
      "cell_type": "code",
      "metadata": {
        "id": "zpkAkJYkQpCC"
      },
      "source": [
        "#\n",
        "# Verificación (bash!)\n",
        "#"
      ],
      "execution_count": null,
      "outputs": []
    }
  ]
}