{
  "nbformat": 4,
  "nbformat_minor": 0,
  "metadata": {
    "colab": {
      "name": "optimizacion_de_modelos_de_regresion",
      "provenance": [],
      "collapsed_sections": [],
      "authorship_tag": "ABX9TyP9RGIO+W4/rL3rnf0/5AvT",
      "include_colab_link": true
    },
    "kernelspec": {
      "name": "python3",
      "display_name": "Python 3"
    },
    "language_info": {
      "name": "python"
    }
  },
  "cells": [
    {
      "cell_type": "markdown",
      "metadata": {
        "id": "view-in-github",
        "colab_type": "text"
      },
      "source": [
        "<a href=\"https://colab.research.google.com/github/jdvelasq/YouTube/blob/main/sklearn/fundamentals/optimizacion_de_modelos_de_regresion.ipynb\" target=\"_parent\"><img src=\"https://colab.research.google.com/assets/colab-badge.svg\" alt=\"Open In Colab\"/></a>"
      ]
    },
    {
      "cell_type": "markdown",
      "metadata": {
        "id": "SXhuTzMDdcqC"
      },
      "source": [
        "# Importación de librerías"
      ]
    },
    {
      "cell_type": "code",
      "metadata": {
        "id": "E0P9zDw8dWDL"
      },
      "source": [
        ""
      ],
      "execution_count": null,
      "outputs": []
    },
    {
      "cell_type": "markdown",
      "metadata": {
        "id": "G945Ug9BdiXk"
      },
      "source": [
        "# Datos\n"
      ]
    },
    {
      "cell_type": "code",
      "metadata": {
        "id": "Mv_lC5ZwbkcP"
      },
      "source": [
        "#\n",
        "# Datos\n",
        "#\n",
        "x = [\n",
        "    0.1087,    0.2698,    0.3765,    0.2146,    0.9155,     \n",
        "    0.0246,    0.0221,    0.8632,    0.6460,    0.2092,\n",
        "    0.8567,    0.1591,    0.9647,    0.6231,    0.7460,\n",
        "    0.3654,    0.3065,    0.6886,    0.4966,    0.2008,\n",
        "    0.2618,    0.7607,    0.1563,    0.4424,    0.7731,\n",
        "]\n",
        "\n",
        "d = [\n",
        "    0.9519,    1.1237,    1.2360,    1.0526,    2.0743,\n",
        "    0.7906,    0.7603,    2.0533,    1.6887,    1.0563,\n",
        "    2.0991,    0.8953,    2.1917,    1.6266,    1.8508,\n",
        "    1.2828,    1.2283,    1.8722,    1.4657,    1.0418,\n",
        "    1.1097,    1.7826,    0.9711,    1.4267,    1.8248,\n",
        "]"
      ],
      "execution_count": null,
      "outputs": []
    },
    {
      "cell_type": "markdown",
      "metadata": {
        "id": "w-LHiKhAdp04"
      },
      "source": [
        "# Función de pérdida\n",
        "\n",
        "$$\\text{SSE}(w_0, w_1)=\\sum_i(d_i-y_i)^2=\\sum_i(d_i-w_0-w_1x_i)^2$$"
      ]
    },
    {
      "cell_type": "code",
      "metadata": {
        "id": "lFKxZa5kdoTJ"
      },
      "source": [
        ""
      ],
      "execution_count": null,
      "outputs": []
    },
    {
      "cell_type": "markdown",
      "metadata": {
        "id": "Ns15FTZ5eJO3"
      },
      "source": [
        "# Forma de la función de pérdida\n"
      ]
    },
    {
      "cell_type": "code",
      "metadata": {
        "id": "MKGdfIDueUXy"
      },
      "source": [
        "#\n",
        "# Malla de puntos\n",
        "#"
      ],
      "execution_count": null,
      "outputs": []
    },
    {
      "cell_type": "code",
      "metadata": {
        "id": "1LjqDBnqeYFY"
      },
      "source": [
        "#\n",
        "# Superficie 3D\n",
        "#"
      ],
      "execution_count": null,
      "outputs": []
    },
    {
      "cell_type": "code",
      "metadata": {
        "id": "pneOaGFjeet-"
      },
      "source": [
        "#\n",
        "# Contorno\n",
        "#"
      ],
      "execution_count": null,
      "outputs": []
    },
    {
      "cell_type": "markdown",
      "metadata": {
        "id": "sbI-x74VfHfk"
      },
      "source": [
        "# Gradiente algebraico\n",
        "\n",
        "$$\\frac{\\partial}{\\partial \\mathbf{w}} \\text{SSE}(\\mathbf{w}_{k-1}) = \n",
        "\\left[\n",
        "  \\begin{array}{c}\n",
        "  -2 \\sum_i  e_{i,k-1}\n",
        "  \\\\\n",
        "  -2 \\sum_i  e_{i,k-1} x_i\n",
        "  \\end{array}\n",
        "\\right]\n",
        "$$"
      ]
    },
    {
      "cell_type": "code",
      "metadata": {
        "id": "-gBs3LgafGUv"
      },
      "source": [
        ""
      ],
      "execution_count": null,
      "outputs": []
    },
    {
      "cell_type": "markdown",
      "metadata": {
        "id": "X8JYTIVJemKO"
      },
      "source": [
        "# Ecuación de mejora (gradiente descendente)\n",
        "\n",
        "$$ \\mathbf{w}_k = \\mathbf{w}_{k-1} - \\mu \\frac{\\partial}{\\partial \\mathbf{w}} \\text{SSE}(\\mathbf{w}_{k-1})$$"
      ]
    },
    {
      "cell_type": "code",
      "metadata": {
        "id": "7DxPGxjOe-5x"
      },
      "source": [
        ""
      ],
      "execution_count": null,
      "outputs": []
    },
    {
      "cell_type": "markdown",
      "metadata": {
        "id": "OrWOOR-ifgJx"
      },
      "source": [
        "# Rutina principal\n"
      ]
    },
    {
      "cell_type": "code",
      "metadata": {
        "id": "VHaEGrc4fkf2"
      },
      "source": [
        ""
      ],
      "execution_count": null,
      "outputs": []
    },
    {
      "cell_type": "markdown",
      "metadata": {
        "id": "iKi2AmcXfo3b"
      },
      "source": [
        "# Recta encontrada"
      ]
    },
    {
      "cell_type": "code",
      "metadata": {
        "id": "JfMZcTEVfqVn"
      },
      "source": [
        ""
      ],
      "execution_count": null,
      "outputs": []
    },
    {
      "cell_type": "markdown",
      "metadata": {
        "id": "wl-4-IB7f7Z4"
      },
      "source": [
        "# Aprendizaje batch vs aprendizaje online"
      ]
    },
    {
      "cell_type": "code",
      "metadata": {
        "id": "YT1r_c3NgKsR"
      },
      "source": [
        "#\n",
        "# Gradiente online\n",
        "#"
      ],
      "execution_count": null,
      "outputs": []
    },
    {
      "cell_type": "code",
      "metadata": {
        "id": "8u-EehZ9gntX"
      },
      "source": [
        "#\n",
        "# Mejora gradiente online\n",
        "#"
      ],
      "execution_count": null,
      "outputs": []
    },
    {
      "cell_type": "code",
      "metadata": {
        "id": "ktfekuQnguJM"
      },
      "source": [
        "#\n",
        "# Rutina principal\n",
        "#"
      ],
      "execution_count": null,
      "outputs": []
    },
    {
      "cell_type": "markdown",
      "metadata": {
        "id": "rANKMSdwg-uX"
      },
      "source": [
        "# Gradiente descendente estocástico\n"
      ]
    },
    {
      "cell_type": "code",
      "metadata": {
        "id": "s6be0fhVhGvm"
      },
      "source": [
        "#\n",
        "# Rutina principal\n",
        "#"
      ],
      "execution_count": null,
      "outputs": []
    },
    {
      "cell_type": "code",
      "metadata": {
        "id": "ahNgJD_xhJV2"
      },
      "source": [
        "#\n",
        "# Contorno y trayectoria\n",
        "#"
      ],
      "execution_count": null,
      "outputs": []
    },
    {
      "cell_type": "code",
      "metadata": {
        "id": "qDFIUQnMhTb-"
      },
      "source": [
        "#\n",
        "# SSE vs iteraciones\n",
        "#"
      ],
      "execution_count": null,
      "outputs": []
    }
  ]
}