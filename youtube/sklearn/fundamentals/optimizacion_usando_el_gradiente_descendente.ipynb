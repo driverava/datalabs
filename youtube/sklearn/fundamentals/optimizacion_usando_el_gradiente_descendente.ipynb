{
  "nbformat": 4,
  "nbformat_minor": 0,
  "metadata": {
    "colab": {
      "name": "optimizacion-usando-el-gradiente-descendente.ipynb",
      "provenance": [],
      "collapsed_sections": [],
      "authorship_tag": "ABX9TyPWTU5+Bd46wF+ypw6Qq1gI",
      "include_colab_link": true
    },
    "kernelspec": {
      "name": "python3",
      "display_name": "Python 3"
    }
  },
  "cells": [
    {
      "cell_type": "markdown",
      "metadata": {
        "id": "view-in-github",
        "colab_type": "text"
      },
      "source": [
        "<a href=\"https://colab.research.google.com/github/jdvelasq/YouTube/blob/main/optimizacion_usando_el_gradiente_descendente.ipynb\" target=\"_parent\"><img src=\"https://colab.research.google.com/assets/colab-badge.svg\" alt=\"Open In Colab\"/></a>"
      ]
    },
    {
      "cell_type": "code",
      "metadata": {
        "id": "MMeqqaPHxg7Q"
      },
      "source": [
        "#\n",
        "# Módulos\n",
        "#\n"
      ],
      "execution_count": null,
      "outputs": []
    },
    {
      "cell_type": "markdown",
      "metadata": {
        "id": "DIDyAToDa9R-"
      },
      "source": [
        "$$f(x, y) = 100(x^2 - y)^2 + (1 - x)^2$$"
      ]
    },
    {
      "cell_type": "code",
      "metadata": {
        "id": "-fEkN0-YxRcT"
      },
      "source": [
        "#\n",
        "# Función de Rosenbrock\n",
        "#\n"
      ],
      "execution_count": null,
      "outputs": []
    },
    {
      "cell_type": "code",
      "metadata": {
        "id": "8oqfMZzlxoQs"
      },
      "source": [
        "#\n",
        "# Matrices para graficación\n",
        "#\n"
      ],
      "execution_count": null,
      "outputs": []
    },
    {
      "cell_type": "code",
      "metadata": {
        "id": "ihMOjy_QWial"
      },
      "source": [
        "#\n",
        "# Gráfica de contorno\n",
        "#\n"
      ],
      "execution_count": null,
      "outputs": []
    },
    {
      "cell_type": "markdown",
      "metadata": {
        "id": "PjeoKgAUbAgx"
      },
      "source": [
        "  $$\\frac{d}{dx}f(x,y) = 400 x (x^2-y) - 2(1 - x)$$\n",
        "\n",
        "$$\\frac{d}{dy}f(x,y) = -200(x^2 - y)$$"
      ]
    },
    {
      "cell_type": "code",
      "metadata": {
        "id": "WPJ5bxcxyleG"
      },
      "source": [
        "#\n",
        "# Cómputo del gradiente\n",
        "#\n"
      ],
      "execution_count": null,
      "outputs": []
    },
    {
      "cell_type": "markdown",
      "metadata": {
        "id": "U4NSkzUObVFe"
      },
      "source": [
        "$$ \\mathbf{w}_k = \\mathbf{w}_{k-1} - \\mu \\frac{\\partial}{\\partial \\mathbf{w}} f(\\mathbf{w}_{k-1})$$"
      ]
    },
    {
      "cell_type": "code",
      "metadata": {
        "id": "yHtNKW3QbVfm"
      },
      "source": [
        "#\n",
        "# Función de mejora\n",
        "# (Método del gradiente descendente)\n",
        "#\n"
      ],
      "execution_count": null,
      "outputs": []
    },
    {
      "cell_type": "code",
      "metadata": {
        "id": "ZEwk36jO8vPn"
      },
      "source": [
        "#\n",
        "# Programa principal\n",
        "#\n",
        "   "
      ],
      "execution_count": null,
      "outputs": []
    },
    {
      "cell_type": "code",
      "metadata": {
        "id": "9bgF-2RAOJvT"
      },
      "source": [
        "#\n",
        "# Gráfica f(x,y) vs iteraciones\n",
        "#\n"
      ],
      "execution_count": null,
      "outputs": []
    }
  ]
}